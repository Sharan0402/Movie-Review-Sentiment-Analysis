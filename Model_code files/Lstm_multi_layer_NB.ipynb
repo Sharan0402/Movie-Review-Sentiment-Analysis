{
  "nbformat": 4,
  "nbformat_minor": 0,
  "metadata": {
    "colab": {
      "provenance": [],
      "toc_visible": true
    },
    "kernelspec": {
      "name": "python3",
      "display_name": "Python 3"
    },
    "language_info": {
      "name": "python"
    }
  },
  "cells": [
    {
      "cell_type": "markdown",
      "source": [
        "# Read Data"
      ],
      "metadata": {
        "id": "pH_2w0os9Lwy"
      }
    },
    {
      "cell_type": "code",
      "execution_count": null,
      "metadata": {
        "colab": {
          "base_uri": "https://localhost:8080/"
        },
        "id": "zv0MaBu3niFv",
        "outputId": "01539a10-c2e3-4e26-8a64-837c26e9faae"
      },
      "outputs": [
        {
          "output_type": "stream",
          "name": "stdout",
          "text": [
            "Mounted at /content/drive\n"
          ]
        }
      ],
      "source": [
        "from google.colab import drive\n",
        "drive.mount(\"/content/drive\")"
      ]
    },
    {
      "cell_type": "markdown",
      "source": [
        "## Required Imports"
      ],
      "metadata": {
        "id": "aOSDzGnk9PSA"
      }
    },
    {
      "cell_type": "code",
      "source": [
        "import pandas as pd\n",
        "from sklearn.feature_extraction.text import CountVectorizer\n",
        "from tensorflow.keras.preprocessing.sequence import pad_sequences\n",
        "from tensorflow.keras.models import Sequential\n",
        "from tensorflow.keras.layers import Embedding, LSTM, Dense\n",
        "from imblearn.under_sampling import RandomUnderSampler\n",
        "from imblearn.over_sampling import RandomOverSampler\n",
        "import numpy as np\n",
        "from sklearn.model_selection import train_test_split\n",
        "from sklearn.svm import SVC\n",
        "from sklearn.model_selection import RepeatedStratifiedKFold, GridSearchCV\n",
        "from sklearn.naive_bayes import GaussianNB, MultinomialNB, BernoulliNB\n",
        "from sklearn.ensemble import RandomForestClassifier\n",
        "from sklearn.metrics import accuracy_score, classification_report, confusion_matrix\n",
        "from sklearn.preprocessing import LabelEncoder\n",
        "from tensorflow.keras.layers import Embedding, LSTM, Dropout, Bidirectional, GlobalMaxPooling1D, Dense, BatchNormalization, Activation\n",
        "from tensorflow.keras.optimizers import Adam\n",
        "from sklearn.metrics import classification_report"
      ],
      "metadata": {
        "id": "xnU5EBC9qOQ5"
      },
      "execution_count": null,
      "outputs": []
    },
    {
      "cell_type": "code",
      "source": [
        "path=\"/content/drive/MyDrive/ML_project_datasheets/Final_code/labeled_data.csv\"\n",
        "data=pd.read_csv(path)"
      ],
      "metadata": {
        "id": "A0b1_5jEqRWc"
      },
      "execution_count": null,
      "outputs": []
    },
    {
      "cell_type": "code",
      "source": [
        "data.head()"
      ],
      "metadata": {
        "colab": {
          "base_uri": "https://localhost:8080/",
          "height": 310
        },
        "id": "x1PFwO9VtZEF",
        "outputId": "b0fba715-247d-4c23-a429-aadf429cff21"
      },
      "execution_count": null,
      "outputs": [
        {
          "output_type": "execute_result",
          "data": {
            "text/plain": [
              "   Unnamed: 0                                         reviewText  \\\n",
              "0     3878097                        I thought it was depressing   \n",
              "1     1390262  One of my all time favorite flicks. An adult t...   \n",
              "2     4629692                     LOVE. LOVE. LOVE. Great movie.   \n",
              "3     6433712  The product was deliver excellent and just on ...   \n",
              "4     4837513                                    Terrific movie.   \n",
              "\n",
              "                            Review_without_stopwords  \\\n",
              "0                                 thought depressing   \n",
              "1  one time favorite flicks adult themed comedy d...   \n",
              "2                         love love love great movie   \n",
              "3                     product deliver excellent time   \n",
              "4                                     terrific movie   \n",
              "\n",
              "                                 After_lemmatization  \\\n",
              "0                                 thought depressing   \n",
              "1  one time favorite flick adult themed comedy dr...   \n",
              "2                         love love love great movie   \n",
              "3                     product deliver excellent time   \n",
              "4                                     terrific movie   \n",
              "\n",
              "                                            pos_tags  senti_score  \\\n",
              "0         [('thought', 'NN'), ('depressing', 'VBG')]        0.125   \n",
              "1  [('one', 'CD'), ('time', 'NN'), ('favorite', '...        1.375   \n",
              "2  [('love', 'VB'), ('love', 'NN'), ('love', 'NN'...        1.250   \n",
              "3  [('product', 'NN'), ('deliver', 'VB'), ('excel...        1.000   \n",
              "4              [('terrific', 'JJ'), ('movie', 'NN')]        0.000   \n",
              "\n",
              "  Overall Sentiment  \n",
              "0          Positive  \n",
              "1          Positive  \n",
              "2          Positive  \n",
              "3          Positive  \n",
              "4           Neutral  "
            ],
            "text/html": [
              "\n",
              "  <div id=\"df-306f3c54-e54d-4aed-926f-2291c1f57ce3\" class=\"colab-df-container\">\n",
              "    <div>\n",
              "<style scoped>\n",
              "    .dataframe tbody tr th:only-of-type {\n",
              "        vertical-align: middle;\n",
              "    }\n",
              "\n",
              "    .dataframe tbody tr th {\n",
              "        vertical-align: top;\n",
              "    }\n",
              "\n",
              "    .dataframe thead th {\n",
              "        text-align: right;\n",
              "    }\n",
              "</style>\n",
              "<table border=\"1\" class=\"dataframe\">\n",
              "  <thead>\n",
              "    <tr style=\"text-align: right;\">\n",
              "      <th></th>\n",
              "      <th>Unnamed: 0</th>\n",
              "      <th>reviewText</th>\n",
              "      <th>Review_without_stopwords</th>\n",
              "      <th>After_lemmatization</th>\n",
              "      <th>pos_tags</th>\n",
              "      <th>senti_score</th>\n",
              "      <th>Overall Sentiment</th>\n",
              "    </tr>\n",
              "  </thead>\n",
              "  <tbody>\n",
              "    <tr>\n",
              "      <th>0</th>\n",
              "      <td>3878097</td>\n",
              "      <td>I thought it was depressing</td>\n",
              "      <td>thought depressing</td>\n",
              "      <td>thought depressing</td>\n",
              "      <td>[('thought', 'NN'), ('depressing', 'VBG')]</td>\n",
              "      <td>0.125</td>\n",
              "      <td>Positive</td>\n",
              "    </tr>\n",
              "    <tr>\n",
              "      <th>1</th>\n",
              "      <td>1390262</td>\n",
              "      <td>One of my all time favorite flicks. An adult t...</td>\n",
              "      <td>one time favorite flicks adult themed comedy d...</td>\n",
              "      <td>one time favorite flick adult themed comedy dr...</td>\n",
              "      <td>[('one', 'CD'), ('time', 'NN'), ('favorite', '...</td>\n",
              "      <td>1.375</td>\n",
              "      <td>Positive</td>\n",
              "    </tr>\n",
              "    <tr>\n",
              "      <th>2</th>\n",
              "      <td>4629692</td>\n",
              "      <td>LOVE. LOVE. LOVE. Great movie.</td>\n",
              "      <td>love love love great movie</td>\n",
              "      <td>love love love great movie</td>\n",
              "      <td>[('love', 'VB'), ('love', 'NN'), ('love', 'NN'...</td>\n",
              "      <td>1.250</td>\n",
              "      <td>Positive</td>\n",
              "    </tr>\n",
              "    <tr>\n",
              "      <th>3</th>\n",
              "      <td>6433712</td>\n",
              "      <td>The product was deliver excellent and just on ...</td>\n",
              "      <td>product deliver excellent time</td>\n",
              "      <td>product deliver excellent time</td>\n",
              "      <td>[('product', 'NN'), ('deliver', 'VB'), ('excel...</td>\n",
              "      <td>1.000</td>\n",
              "      <td>Positive</td>\n",
              "    </tr>\n",
              "    <tr>\n",
              "      <th>4</th>\n",
              "      <td>4837513</td>\n",
              "      <td>Terrific movie.</td>\n",
              "      <td>terrific movie</td>\n",
              "      <td>terrific movie</td>\n",
              "      <td>[('terrific', 'JJ'), ('movie', 'NN')]</td>\n",
              "      <td>0.000</td>\n",
              "      <td>Neutral</td>\n",
              "    </tr>\n",
              "  </tbody>\n",
              "</table>\n",
              "</div>\n",
              "    <div class=\"colab-df-buttons\">\n",
              "\n",
              "  <div class=\"colab-df-container\">\n",
              "    <button class=\"colab-df-convert\" onclick=\"convertToInteractive('df-306f3c54-e54d-4aed-926f-2291c1f57ce3')\"\n",
              "            title=\"Convert this dataframe to an interactive table.\"\n",
              "            style=\"display:none;\">\n",
              "\n",
              "  <svg xmlns=\"http://www.w3.org/2000/svg\" height=\"24px\" viewBox=\"0 -960 960 960\">\n",
              "    <path d=\"M120-120v-720h720v720H120Zm60-500h600v-160H180v160Zm220 220h160v-160H400v160Zm0 220h160v-160H400v160ZM180-400h160v-160H180v160Zm440 0h160v-160H620v160ZM180-180h160v-160H180v160Zm440 0h160v-160H620v160Z\"/>\n",
              "  </svg>\n",
              "    </button>\n",
              "\n",
              "  <style>\n",
              "    .colab-df-container {\n",
              "      display:flex;\n",
              "      gap: 12px;\n",
              "    }\n",
              "\n",
              "    .colab-df-convert {\n",
              "      background-color: #E8F0FE;\n",
              "      border: none;\n",
              "      border-radius: 50%;\n",
              "      cursor: pointer;\n",
              "      display: none;\n",
              "      fill: #1967D2;\n",
              "      height: 32px;\n",
              "      padding: 0 0 0 0;\n",
              "      width: 32px;\n",
              "    }\n",
              "\n",
              "    .colab-df-convert:hover {\n",
              "      background-color: #E2EBFA;\n",
              "      box-shadow: 0px 1px 2px rgba(60, 64, 67, 0.3), 0px 1px 3px 1px rgba(60, 64, 67, 0.15);\n",
              "      fill: #174EA6;\n",
              "    }\n",
              "\n",
              "    .colab-df-buttons div {\n",
              "      margin-bottom: 4px;\n",
              "    }\n",
              "\n",
              "    [theme=dark] .colab-df-convert {\n",
              "      background-color: #3B4455;\n",
              "      fill: #D2E3FC;\n",
              "    }\n",
              "\n",
              "    [theme=dark] .colab-df-convert:hover {\n",
              "      background-color: #434B5C;\n",
              "      box-shadow: 0px 1px 3px 1px rgba(0, 0, 0, 0.15);\n",
              "      filter: drop-shadow(0px 1px 2px rgba(0, 0, 0, 0.3));\n",
              "      fill: #FFFFFF;\n",
              "    }\n",
              "  </style>\n",
              "\n",
              "    <script>\n",
              "      const buttonEl =\n",
              "        document.querySelector('#df-306f3c54-e54d-4aed-926f-2291c1f57ce3 button.colab-df-convert');\n",
              "      buttonEl.style.display =\n",
              "        google.colab.kernel.accessAllowed ? 'block' : 'none';\n",
              "\n",
              "      async function convertToInteractive(key) {\n",
              "        const element = document.querySelector('#df-306f3c54-e54d-4aed-926f-2291c1f57ce3');\n",
              "        const dataTable =\n",
              "          await google.colab.kernel.invokeFunction('convertToInteractive',\n",
              "                                                    [key], {});\n",
              "        if (!dataTable) return;\n",
              "\n",
              "        const docLinkHtml = 'Like what you see? Visit the ' +\n",
              "          '<a target=\"_blank\" href=https://colab.research.google.com/notebooks/data_table.ipynb>data table notebook</a>'\n",
              "          + ' to learn more about interactive tables.';\n",
              "        element.innerHTML = '';\n",
              "        dataTable['output_type'] = 'display_data';\n",
              "        await google.colab.output.renderOutput(dataTable, element);\n",
              "        const docLink = document.createElement('div');\n",
              "        docLink.innerHTML = docLinkHtml;\n",
              "        element.appendChild(docLink);\n",
              "      }\n",
              "    </script>\n",
              "  </div>\n",
              "\n",
              "\n",
              "<div id=\"df-c3cc623d-d3f1-472e-ad92-9d7ce7985177\">\n",
              "  <button class=\"colab-df-quickchart\" onclick=\"quickchart('df-c3cc623d-d3f1-472e-ad92-9d7ce7985177')\"\n",
              "            title=\"Suggest charts\"\n",
              "            style=\"display:none;\">\n",
              "\n",
              "<svg xmlns=\"http://www.w3.org/2000/svg\" height=\"24px\"viewBox=\"0 0 24 24\"\n",
              "     width=\"24px\">\n",
              "    <g>\n",
              "        <path d=\"M19 3H5c-1.1 0-2 .9-2 2v14c0 1.1.9 2 2 2h14c1.1 0 2-.9 2-2V5c0-1.1-.9-2-2-2zM9 17H7v-7h2v7zm4 0h-2V7h2v10zm4 0h-2v-4h2v4z\"/>\n",
              "    </g>\n",
              "</svg>\n",
              "  </button>\n",
              "\n",
              "<style>\n",
              "  .colab-df-quickchart {\n",
              "      --bg-color: #E8F0FE;\n",
              "      --fill-color: #1967D2;\n",
              "      --hover-bg-color: #E2EBFA;\n",
              "      --hover-fill-color: #174EA6;\n",
              "      --disabled-fill-color: #AAA;\n",
              "      --disabled-bg-color: #DDD;\n",
              "  }\n",
              "\n",
              "  [theme=dark] .colab-df-quickchart {\n",
              "      --bg-color: #3B4455;\n",
              "      --fill-color: #D2E3FC;\n",
              "      --hover-bg-color: #434B5C;\n",
              "      --hover-fill-color: #FFFFFF;\n",
              "      --disabled-bg-color: #3B4455;\n",
              "      --disabled-fill-color: #666;\n",
              "  }\n",
              "\n",
              "  .colab-df-quickchart {\n",
              "    background-color: var(--bg-color);\n",
              "    border: none;\n",
              "    border-radius: 50%;\n",
              "    cursor: pointer;\n",
              "    display: none;\n",
              "    fill: var(--fill-color);\n",
              "    height: 32px;\n",
              "    padding: 0;\n",
              "    width: 32px;\n",
              "  }\n",
              "\n",
              "  .colab-df-quickchart:hover {\n",
              "    background-color: var(--hover-bg-color);\n",
              "    box-shadow: 0 1px 2px rgba(60, 64, 67, 0.3), 0 1px 3px 1px rgba(60, 64, 67, 0.15);\n",
              "    fill: var(--button-hover-fill-color);\n",
              "  }\n",
              "\n",
              "  .colab-df-quickchart-complete:disabled,\n",
              "  .colab-df-quickchart-complete:disabled:hover {\n",
              "    background-color: var(--disabled-bg-color);\n",
              "    fill: var(--disabled-fill-color);\n",
              "    box-shadow: none;\n",
              "  }\n",
              "\n",
              "  .colab-df-spinner {\n",
              "    border: 2px solid var(--fill-color);\n",
              "    border-color: transparent;\n",
              "    border-bottom-color: var(--fill-color);\n",
              "    animation:\n",
              "      spin 1s steps(1) infinite;\n",
              "  }\n",
              "\n",
              "  @keyframes spin {\n",
              "    0% {\n",
              "      border-color: transparent;\n",
              "      border-bottom-color: var(--fill-color);\n",
              "      border-left-color: var(--fill-color);\n",
              "    }\n",
              "    20% {\n",
              "      border-color: transparent;\n",
              "      border-left-color: var(--fill-color);\n",
              "      border-top-color: var(--fill-color);\n",
              "    }\n",
              "    30% {\n",
              "      border-color: transparent;\n",
              "      border-left-color: var(--fill-color);\n",
              "      border-top-color: var(--fill-color);\n",
              "      border-right-color: var(--fill-color);\n",
              "    }\n",
              "    40% {\n",
              "      border-color: transparent;\n",
              "      border-right-color: var(--fill-color);\n",
              "      border-top-color: var(--fill-color);\n",
              "    }\n",
              "    60% {\n",
              "      border-color: transparent;\n",
              "      border-right-color: var(--fill-color);\n",
              "    }\n",
              "    80% {\n",
              "      border-color: transparent;\n",
              "      border-right-color: var(--fill-color);\n",
              "      border-bottom-color: var(--fill-color);\n",
              "    }\n",
              "    90% {\n",
              "      border-color: transparent;\n",
              "      border-bottom-color: var(--fill-color);\n",
              "    }\n",
              "  }\n",
              "</style>\n",
              "\n",
              "  <script>\n",
              "    async function quickchart(key) {\n",
              "      const quickchartButtonEl =\n",
              "        document.querySelector('#' + key + ' button');\n",
              "      quickchartButtonEl.disabled = true;  // To prevent multiple clicks.\n",
              "      quickchartButtonEl.classList.add('colab-df-spinner');\n",
              "      try {\n",
              "        const charts = await google.colab.kernel.invokeFunction(\n",
              "            'suggestCharts', [key], {});\n",
              "      } catch (error) {\n",
              "        console.error('Error during call to suggestCharts:', error);\n",
              "      }\n",
              "      quickchartButtonEl.classList.remove('colab-df-spinner');\n",
              "      quickchartButtonEl.classList.add('colab-df-quickchart-complete');\n",
              "    }\n",
              "    (() => {\n",
              "      let quickchartButtonEl =\n",
              "        document.querySelector('#df-c3cc623d-d3f1-472e-ad92-9d7ce7985177 button');\n",
              "      quickchartButtonEl.style.display =\n",
              "        google.colab.kernel.accessAllowed ? 'block' : 'none';\n",
              "    })();\n",
              "  </script>\n",
              "</div>\n",
              "    </div>\n",
              "  </div>\n"
            ]
          },
          "metadata": {},
          "execution_count": 7
        }
      ]
    },
    {
      "cell_type": "code",
      "source": [
        "data['reviews_text_new'] = data['After_lemmatization'].copy()"
      ],
      "metadata": {
        "id": "jZb8xNqjqi9T"
      },
      "execution_count": null,
      "outputs": []
    },
    {
      "cell_type": "code",
      "source": [
        "data.shape"
      ],
      "metadata": {
        "colab": {
          "base_uri": "https://localhost:8080/"
        },
        "id": "I7i1fkCvtjyz",
        "outputId": "8dd48ed2-ddd6-40bc-d1fa-e4d7f2632267"
      },
      "execution_count": null,
      "outputs": [
        {
          "output_type": "execute_result",
          "data": {
            "text/plain": [
              "(500000, 8)"
            ]
          },
          "metadata": {},
          "execution_count": 6
        }
      ]
    },
    {
      "cell_type": "code",
      "source": [
        "Data = data[['reviews_text_new', 'Overall Sentiment']]"
      ],
      "metadata": {
        "id": "IzsHkLAoOCqr"
      },
      "execution_count": null,
      "outputs": []
    },
    {
      "cell_type": "code",
      "source": [
        "Data.head()"
      ],
      "metadata": {
        "colab": {
          "base_uri": "https://localhost:8080/",
          "height": 206
        },
        "id": "enW60gUOOb-K",
        "outputId": "3b4766ed-5547-42e5-93fe-8e25516c71bf"
      },
      "execution_count": null,
      "outputs": [
        {
          "output_type": "execute_result",
          "data": {
            "text/plain": [
              "                                    reviews_text_new Overall Sentiment\n",
              "0                                 thought depressing          Positive\n",
              "1  one time favorite flick adult themed comedy dr...          Positive\n",
              "2                         love love love great movie          Positive\n",
              "3                     product deliver excellent time          Positive\n",
              "4                                     terrific movie           Neutral"
            ],
            "text/html": [
              "\n",
              "  <div id=\"df-a648dd0b-4c46-413a-97e5-13a81851d96a\" class=\"colab-df-container\">\n",
              "    <div>\n",
              "<style scoped>\n",
              "    .dataframe tbody tr th:only-of-type {\n",
              "        vertical-align: middle;\n",
              "    }\n",
              "\n",
              "    .dataframe tbody tr th {\n",
              "        vertical-align: top;\n",
              "    }\n",
              "\n",
              "    .dataframe thead th {\n",
              "        text-align: right;\n",
              "    }\n",
              "</style>\n",
              "<table border=\"1\" class=\"dataframe\">\n",
              "  <thead>\n",
              "    <tr style=\"text-align: right;\">\n",
              "      <th></th>\n",
              "      <th>reviews_text_new</th>\n",
              "      <th>Overall Sentiment</th>\n",
              "    </tr>\n",
              "  </thead>\n",
              "  <tbody>\n",
              "    <tr>\n",
              "      <th>0</th>\n",
              "      <td>thought depressing</td>\n",
              "      <td>Positive</td>\n",
              "    </tr>\n",
              "    <tr>\n",
              "      <th>1</th>\n",
              "      <td>one time favorite flick adult themed comedy dr...</td>\n",
              "      <td>Positive</td>\n",
              "    </tr>\n",
              "    <tr>\n",
              "      <th>2</th>\n",
              "      <td>love love love great movie</td>\n",
              "      <td>Positive</td>\n",
              "    </tr>\n",
              "    <tr>\n",
              "      <th>3</th>\n",
              "      <td>product deliver excellent time</td>\n",
              "      <td>Positive</td>\n",
              "    </tr>\n",
              "    <tr>\n",
              "      <th>4</th>\n",
              "      <td>terrific movie</td>\n",
              "      <td>Neutral</td>\n",
              "    </tr>\n",
              "  </tbody>\n",
              "</table>\n",
              "</div>\n",
              "    <div class=\"colab-df-buttons\">\n",
              "\n",
              "  <div class=\"colab-df-container\">\n",
              "    <button class=\"colab-df-convert\" onclick=\"convertToInteractive('df-a648dd0b-4c46-413a-97e5-13a81851d96a')\"\n",
              "            title=\"Convert this dataframe to an interactive table.\"\n",
              "            style=\"display:none;\">\n",
              "\n",
              "  <svg xmlns=\"http://www.w3.org/2000/svg\" height=\"24px\" viewBox=\"0 -960 960 960\">\n",
              "    <path d=\"M120-120v-720h720v720H120Zm60-500h600v-160H180v160Zm220 220h160v-160H400v160Zm0 220h160v-160H400v160ZM180-400h160v-160H180v160Zm440 0h160v-160H620v160ZM180-180h160v-160H180v160Zm440 0h160v-160H620v160Z\"/>\n",
              "  </svg>\n",
              "    </button>\n",
              "\n",
              "  <style>\n",
              "    .colab-df-container {\n",
              "      display:flex;\n",
              "      gap: 12px;\n",
              "    }\n",
              "\n",
              "    .colab-df-convert {\n",
              "      background-color: #E8F0FE;\n",
              "      border: none;\n",
              "      border-radius: 50%;\n",
              "      cursor: pointer;\n",
              "      display: none;\n",
              "      fill: #1967D2;\n",
              "      height: 32px;\n",
              "      padding: 0 0 0 0;\n",
              "      width: 32px;\n",
              "    }\n",
              "\n",
              "    .colab-df-convert:hover {\n",
              "      background-color: #E2EBFA;\n",
              "      box-shadow: 0px 1px 2px rgba(60, 64, 67, 0.3), 0px 1px 3px 1px rgba(60, 64, 67, 0.15);\n",
              "      fill: #174EA6;\n",
              "    }\n",
              "\n",
              "    .colab-df-buttons div {\n",
              "      margin-bottom: 4px;\n",
              "    }\n",
              "\n",
              "    [theme=dark] .colab-df-convert {\n",
              "      background-color: #3B4455;\n",
              "      fill: #D2E3FC;\n",
              "    }\n",
              "\n",
              "    [theme=dark] .colab-df-convert:hover {\n",
              "      background-color: #434B5C;\n",
              "      box-shadow: 0px 1px 3px 1px rgba(0, 0, 0, 0.15);\n",
              "      filter: drop-shadow(0px 1px 2px rgba(0, 0, 0, 0.3));\n",
              "      fill: #FFFFFF;\n",
              "    }\n",
              "  </style>\n",
              "\n",
              "    <script>\n",
              "      const buttonEl =\n",
              "        document.querySelector('#df-a648dd0b-4c46-413a-97e5-13a81851d96a button.colab-df-convert');\n",
              "      buttonEl.style.display =\n",
              "        google.colab.kernel.accessAllowed ? 'block' : 'none';\n",
              "\n",
              "      async function convertToInteractive(key) {\n",
              "        const element = document.querySelector('#df-a648dd0b-4c46-413a-97e5-13a81851d96a');\n",
              "        const dataTable =\n",
              "          await google.colab.kernel.invokeFunction('convertToInteractive',\n",
              "                                                    [key], {});\n",
              "        if (!dataTable) return;\n",
              "\n",
              "        const docLinkHtml = 'Like what you see? Visit the ' +\n",
              "          '<a target=\"_blank\" href=https://colab.research.google.com/notebooks/data_table.ipynb>data table notebook</a>'\n",
              "          + ' to learn more about interactive tables.';\n",
              "        element.innerHTML = '';\n",
              "        dataTable['output_type'] = 'display_data';\n",
              "        await google.colab.output.renderOutput(dataTable, element);\n",
              "        const docLink = document.createElement('div');\n",
              "        docLink.innerHTML = docLinkHtml;\n",
              "        element.appendChild(docLink);\n",
              "      }\n",
              "    </script>\n",
              "  </div>\n",
              "\n",
              "\n",
              "<div id=\"df-367b28f4-27ce-4cda-809d-e696c720e9ea\">\n",
              "  <button class=\"colab-df-quickchart\" onclick=\"quickchart('df-367b28f4-27ce-4cda-809d-e696c720e9ea')\"\n",
              "            title=\"Suggest charts\"\n",
              "            style=\"display:none;\">\n",
              "\n",
              "<svg xmlns=\"http://www.w3.org/2000/svg\" height=\"24px\"viewBox=\"0 0 24 24\"\n",
              "     width=\"24px\">\n",
              "    <g>\n",
              "        <path d=\"M19 3H5c-1.1 0-2 .9-2 2v14c0 1.1.9 2 2 2h14c1.1 0 2-.9 2-2V5c0-1.1-.9-2-2-2zM9 17H7v-7h2v7zm4 0h-2V7h2v10zm4 0h-2v-4h2v4z\"/>\n",
              "    </g>\n",
              "</svg>\n",
              "  </button>\n",
              "\n",
              "<style>\n",
              "  .colab-df-quickchart {\n",
              "      --bg-color: #E8F0FE;\n",
              "      --fill-color: #1967D2;\n",
              "      --hover-bg-color: #E2EBFA;\n",
              "      --hover-fill-color: #174EA6;\n",
              "      --disabled-fill-color: #AAA;\n",
              "      --disabled-bg-color: #DDD;\n",
              "  }\n",
              "\n",
              "  [theme=dark] .colab-df-quickchart {\n",
              "      --bg-color: #3B4455;\n",
              "      --fill-color: #D2E3FC;\n",
              "      --hover-bg-color: #434B5C;\n",
              "      --hover-fill-color: #FFFFFF;\n",
              "      --disabled-bg-color: #3B4455;\n",
              "      --disabled-fill-color: #666;\n",
              "  }\n",
              "\n",
              "  .colab-df-quickchart {\n",
              "    background-color: var(--bg-color);\n",
              "    border: none;\n",
              "    border-radius: 50%;\n",
              "    cursor: pointer;\n",
              "    display: none;\n",
              "    fill: var(--fill-color);\n",
              "    height: 32px;\n",
              "    padding: 0;\n",
              "    width: 32px;\n",
              "  }\n",
              "\n",
              "  .colab-df-quickchart:hover {\n",
              "    background-color: var(--hover-bg-color);\n",
              "    box-shadow: 0 1px 2px rgba(60, 64, 67, 0.3), 0 1px 3px 1px rgba(60, 64, 67, 0.15);\n",
              "    fill: var(--button-hover-fill-color);\n",
              "  }\n",
              "\n",
              "  .colab-df-quickchart-complete:disabled,\n",
              "  .colab-df-quickchart-complete:disabled:hover {\n",
              "    background-color: var(--disabled-bg-color);\n",
              "    fill: var(--disabled-fill-color);\n",
              "    box-shadow: none;\n",
              "  }\n",
              "\n",
              "  .colab-df-spinner {\n",
              "    border: 2px solid var(--fill-color);\n",
              "    border-color: transparent;\n",
              "    border-bottom-color: var(--fill-color);\n",
              "    animation:\n",
              "      spin 1s steps(1) infinite;\n",
              "  }\n",
              "\n",
              "  @keyframes spin {\n",
              "    0% {\n",
              "      border-color: transparent;\n",
              "      border-bottom-color: var(--fill-color);\n",
              "      border-left-color: var(--fill-color);\n",
              "    }\n",
              "    20% {\n",
              "      border-color: transparent;\n",
              "      border-left-color: var(--fill-color);\n",
              "      border-top-color: var(--fill-color);\n",
              "    }\n",
              "    30% {\n",
              "      border-color: transparent;\n",
              "      border-left-color: var(--fill-color);\n",
              "      border-top-color: var(--fill-color);\n",
              "      border-right-color: var(--fill-color);\n",
              "    }\n",
              "    40% {\n",
              "      border-color: transparent;\n",
              "      border-right-color: var(--fill-color);\n",
              "      border-top-color: var(--fill-color);\n",
              "    }\n",
              "    60% {\n",
              "      border-color: transparent;\n",
              "      border-right-color: var(--fill-color);\n",
              "    }\n",
              "    80% {\n",
              "      border-color: transparent;\n",
              "      border-right-color: var(--fill-color);\n",
              "      border-bottom-color: var(--fill-color);\n",
              "    }\n",
              "    90% {\n",
              "      border-color: transparent;\n",
              "      border-bottom-color: var(--fill-color);\n",
              "    }\n",
              "  }\n",
              "</style>\n",
              "\n",
              "  <script>\n",
              "    async function quickchart(key) {\n",
              "      const quickchartButtonEl =\n",
              "        document.querySelector('#' + key + ' button');\n",
              "      quickchartButtonEl.disabled = true;  // To prevent multiple clicks.\n",
              "      quickchartButtonEl.classList.add('colab-df-spinner');\n",
              "      try {\n",
              "        const charts = await google.colab.kernel.invokeFunction(\n",
              "            'suggestCharts', [key], {});\n",
              "      } catch (error) {\n",
              "        console.error('Error during call to suggestCharts:', error);\n",
              "      }\n",
              "      quickchartButtonEl.classList.remove('colab-df-spinner');\n",
              "      quickchartButtonEl.classList.add('colab-df-quickchart-complete');\n",
              "    }\n",
              "    (() => {\n",
              "      let quickchartButtonEl =\n",
              "        document.querySelector('#df-367b28f4-27ce-4cda-809d-e696c720e9ea button');\n",
              "      quickchartButtonEl.style.display =\n",
              "        google.colab.kernel.accessAllowed ? 'block' : 'none';\n",
              "    })();\n",
              "  </script>\n",
              "</div>\n",
              "    </div>\n",
              "  </div>\n"
            ]
          },
          "metadata": {},
          "execution_count": 28
        }
      ]
    },
    {
      "cell_type": "markdown",
      "source": [
        "##  Encode lables"
      ],
      "metadata": {
        "id": "hM2yB-pd9XtF"
      }
    },
    {
      "cell_type": "code",
      "source": [
        "from sklearn.preprocessing import LabelEncoder\n",
        "label_encoder = LabelEncoder()\n",
        "labels = label_encoder.fit_transform(Data['Overall Sentiment'])"
      ],
      "metadata": {
        "id": "vqdCOwClOsKp"
      },
      "execution_count": null,
      "outputs": []
    },
    {
      "cell_type": "code",
      "source": [
        "labels[0:5]"
      ],
      "metadata": {
        "colab": {
          "base_uri": "https://localhost:8080/"
        },
        "id": "6qX1Z6rJPJ96",
        "outputId": "7d3baf63-7e9b-4b6c-bac8-f8cec9dae6ca"
      },
      "execution_count": null,
      "outputs": [
        {
          "output_type": "execute_result",
          "data": {
            "text/plain": [
              "array([2, 2, 2, 2, 1])"
            ]
          },
          "metadata": {},
          "execution_count": 13
        }
      ]
    },
    {
      "cell_type": "code",
      "source": [
        "#convert colunm 'reviews_text_new' to list\n",
        "corpus = Data['reviews_text_new'].tolist()"
      ],
      "metadata": {
        "id": "nEWe6ca7qvMI"
      },
      "execution_count": null,
      "outputs": []
    },
    {
      "cell_type": "markdown",
      "source": [
        "## Feature extraction"
      ],
      "metadata": {
        "id": "SUfsO67R9kam"
      }
    },
    {
      "cell_type": "code",
      "source": [
        "# Create a CountVectorizer to convert text to a bag-of-words matrix\n",
        "bow_counts = CountVectorizer()\n",
        "bow_data = bow_counts.fit_transform(corpus)"
      ],
      "metadata": {
        "id": "VKNLox5RuQ0A"
      },
      "execution_count": null,
      "outputs": []
    },
    {
      "cell_type": "code",
      "source": [
        "print(bow_data[0])"
      ],
      "metadata": {
        "colab": {
          "base_uri": "https://localhost:8080/"
        },
        "id": "iOA5F79vuv9e",
        "outputId": "ff39e094-28e0-4bbd-d3ae-bb9cbe05710d"
      },
      "execution_count": null,
      "outputs": [
        {
          "output_type": "stream",
          "name": "stdout",
          "text": [
            "  (0, 176109)\t1\n",
            "  (0, 49847)\t1\n"
          ]
        }
      ]
    },
    {
      "cell_type": "markdown",
      "source": [
        "# Preprocess bow_data to so we can feed to LSTM"
      ],
      "metadata": {
        "id": "wIYocu5d9t8e"
      }
    },
    {
      "cell_type": "code",
      "source": [
        "# Convert the bag-of-words matrix to sequences of integers\n",
        "sequences = [list(doc.nonzero()[1]) for doc in bow_data]"
      ],
      "metadata": {
        "id": "0BqeL1eYuu8K"
      },
      "execution_count": null,
      "outputs": []
    },
    {
      "cell_type": "code",
      "source": [
        "for seq in sequences[0]:\n",
        "    print(seq)"
      ],
      "metadata": {
        "colab": {
          "base_uri": "https://localhost:8080/"
        },
        "id": "V0dcHX0BxEUS",
        "outputId": "94d10726-7050-483d-c817-844c4127842e"
      },
      "execution_count": null,
      "outputs": [
        {
          "output_type": "stream",
          "name": "stdout",
          "text": [
            "176109\n",
            "49847\n"
          ]
        }
      ]
    },
    {
      "cell_type": "code",
      "source": [
        "max_sequence_length=100"
      ],
      "metadata": {
        "id": "IPsSjfqtFHlY"
      },
      "execution_count": null,
      "outputs": []
    },
    {
      "cell_type": "code",
      "source": [
        "# Pad the sequences for equal length\n",
        "padded_sequences = pad_sequences(sequences, maxlen=max_sequence_length)"
      ],
      "metadata": {
        "id": "gMCqQyQIQU7S"
      },
      "execution_count": null,
      "outputs": []
    },
    {
      "cell_type": "code",
      "source": [
        "X = padded_sequences\n",
        "y = labels"
      ],
      "metadata": {
        "id": "mryb1UBACJEE"
      },
      "execution_count": null,
      "outputs": []
    },
    {
      "cell_type": "code",
      "source": [
        "X = bow_data\n",
        "y = labels"
      ],
      "metadata": {
        "id": "6-HA8GQSEwnT"
      },
      "execution_count": null,
      "outputs": []
    },
    {
      "cell_type": "markdown",
      "source": [
        "# LSTM(added more layers) with random over sampling"
      ],
      "metadata": {
        "id": "vBJW7auHVWWA"
      }
    },
    {
      "cell_type": "code",
      "source": [
        "embedding_dim = 50\n",
        "lstm_units = 64\n",
        "output_units=3"
      ],
      "metadata": {
        "id": "cyhPRj6nRdsM"
      },
      "execution_count": null,
      "outputs": []
    },
    {
      "cell_type": "code",
      "source": [
        "model = Sequential()\n",
        "model.add(Embedding(input_dim=bow_data.shape[1], output_dim=embedding_dim, input_length=max_sequence_length))\n",
        "model.add(LSTM(units=lstm_units, return_sequences=True))\n",
        "model.add(Dropout(rate=0.5))\n",
        "model.add(GlobalMaxPooling1D())\n",
        "model.add(BatchNormalization())\n",
        "model.add(Dense(units=output_units, activation='softmax'))"
      ],
      "metadata": {
        "id": "hxjSuddAAfDj"
      },
      "execution_count": null,
      "outputs": []
    },
    {
      "cell_type": "code",
      "source": [
        "# Print the layers\n",
        "for i, layer in enumerate(model.layers):\n",
        "    print(f\"Layer {i + 1}: {layer.name} - {layer}\")"
      ],
      "metadata": {
        "id": "alIhb5S_N34W",
        "outputId": "92df7660-3179-4478-fa36-f5e7325d0ecc",
        "colab": {
          "base_uri": "https://localhost:8080/"
        }
      },
      "execution_count": null,
      "outputs": [
        {
          "output_type": "stream",
          "name": "stdout",
          "text": [
            "Layer 1: embedding - <keras.src.layers.core.embedding.Embedding object at 0x7ba0f0c97cd0>\n",
            "Layer 2: lstm - <keras.src.layers.rnn.lstm.LSTM object at 0x7ba0f02b7d00>\n",
            "Layer 3: dropout - <keras.src.layers.regularization.dropout.Dropout object at 0x7ba0f02b6080>\n",
            "Layer 4: global_max_pooling1d - <keras.src.layers.pooling.global_max_pooling1d.GlobalMaxPooling1D object at 0x7ba0f0c94160>\n",
            "Layer 5: batch_normalization - <keras.src.layers.normalization.batch_normalization.BatchNormalization object at 0x7ba0f030ad40>\n",
            "Layer 6: dense - <keras.src.layers.core.dense.Dense object at 0x7ba0f030bd60>\n"
          ]
        }
      ]
    },
    {
      "cell_type": "code",
      "source": [
        "from tensorflow.keras.optimizers import Adam\n",
        "\n",
        "# Compile the model\n",
        "model.compile(optimizer=Adam(learning_rate=0.001),\n",
        "              loss='sparse_categorical_crossentropy',\n",
        "              metrics=['accuracy'])\n",
        "\n",
        "# Train the model (assuming you have X_train, y_train as your training data)\n",
        "model.fit(X_train_ros, y_train_ros, epochs=10, batch_size=32, validation_split=0.2)"
      ],
      "metadata": {
        "id": "2cGsBHBZSG-l",
        "outputId": "ba42b9de-7e53-4113-8bc0-abdd057cd398",
        "colab": {
          "base_uri": "https://localhost:8080/"
        }
      },
      "execution_count": null,
      "outputs": [
        {
          "metadata": {
            "tags": null
          },
          "name": "stdout",
          "output_type": "stream",
          "text": [
            "Epoch 1/10\n",
            "20052/20052 [==============================] - 6643s 331ms/step - loss: 0.4174 - accuracy: 0.8434 - val_loss: 0.4195 - val_accuracy: 0.8564\n",
            "Epoch 2/10\n",
            "20052/20052 [==============================] - 6534s 326ms/step - loss: 0.3044 - accuracy: 0.8910 - val_loss: 0.3607 - val_accuracy: 0.8731\n",
            "Epoch 3/10\n",
            "20052/20052 [==============================] - 6471s 323ms/step - loss: 0.2474 - accuracy: 0.9132 - val_loss: 0.3760 - val_accuracy: 0.8601\n",
            "Epoch 4/10\n",
            "20052/20052 [==============================] - 6244s 311ms/step - loss: 0.2151 - accuracy: 0.9255 - val_loss: 0.4176 - val_accuracy: 0.8641\n",
            "Epoch 5/10\n",
            "20052/20052 [==============================] - 6164s 307ms/step - loss: 0.1940 - accuracy: 0.9334 - val_loss: 0.3379 - val_accuracy: 0.8863\n",
            "Epoch 6/10\n",
            "20052/20052 [==============================] - 6107s 305ms/step - loss: 0.1788 - accuracy: 0.9390 - val_loss: 0.2983 - val_accuracy: 0.9009\n",
            "Epoch 7/10\n",
            "20052/20052 [==============================] - 6166s 307ms/step - loss: 0.1656 - accuracy: 0.9438 - val_loss: 0.2861 - val_accuracy: 0.9064\n",
            "Epoch 8/10\n",
            "20052/20052 [==============================] - 6082s 303ms/step - loss: 0.1549 - accuracy: 0.9477 - val_loss: 0.3408 - val_accuracy: 0.8857\n",
            "Epoch 9/10\n",
            "20052/20052 [==============================] - 6228s 311ms/step - loss: 0.1476 - accuracy: 0.9503 - val_loss: 0.2658 - val_accuracy: 0.9153\n",
            "Epoch 10/10\n",
            "20052/20052 [==============================] - 6150s 307ms/step - loss: 0.1406 - accuracy: 0.9529 - val_loss: 0.2811 - val_accuracy: 0.9078\n"
          ]
        },
        {
          "data": {
            "text/plain": [
              "<keras.src.callbacks.History at 0x7ba0fccdb2e0>"
            ]
          },
          "execution_count": 49,
          "metadata": {},
          "output_type": "execute_result"
        }
      ]
    },
    {
      "cell_type": "code",
      "source": [
        "from sklearn.metrics import classification_report\n",
        "\n",
        "y_pred = model.predict(X_test_ros)\n",
        "y_pred_classes = np.argmax(y_pred, axis=1)\n",
        "# Print classification report\n",
        "print(classification_report(y_test_ros, y_pred_classes))\n"
      ],
      "metadata": {
        "id": "9qIb7sLPSffS",
        "outputId": "3cf2c3ba-2bf4-4e49-c55c-584237a49039",
        "colab": {
          "base_uri": "https://localhost:8080/"
        }
      },
      "execution_count": null,
      "outputs": [
        {
          "output_type": "stream",
          "name": "stdout",
          "text": [
            "6267/6267 [==============================] - 155s 25ms/step\n",
            "              precision    recall  f1-score   support\n",
            "\n",
            "           0       0.93      0.92      0.92     66906\n",
            "           1       0.87      0.96      0.91     66948\n",
            "           2       0.94      0.85      0.89     66664\n",
            "\n",
            "    accuracy                           0.91    200518\n",
            "   macro avg       0.91      0.91      0.91    200518\n",
            "weighted avg       0.91      0.91      0.91    200518\n",
            "\n"
          ]
        }
      ]
    },
    {
      "cell_type": "markdown",
      "source": [
        "# Naive Bayes"
      ],
      "metadata": {
        "id": "pPDMU_t9JJs6"
      }
    },
    {
      "cell_type": "markdown",
      "source": [
        "## Gaussian naive Bayes with random under sampling"
      ],
      "metadata": {
        "id": "mupTFXCS_DOU"
      }
    },
    {
      "cell_type": "code",
      "source": [
        "cv = RepeatedStratifiedKFold(n_splits=2, n_repeats=1, random_state=1)\n"
      ],
      "metadata": {
        "id": "Yvp3-f_pJNkV"
      },
      "execution_count": null,
      "outputs": []
    },
    {
      "cell_type": "code",
      "source": [
        "# Define the parameter grid\n",
        "params_GaussianNB = {'var_smoothing': np.logspace(0, -9, num=100)}\n",
        "# Create instances of Naive Bayes models\n",
        "model_GaussianNB = GaussianNB()\n",
        "# Create instances of GridSearchCV\n",
        "gs_GaussianNB = GridSearchCV(estimator=model_GaussianNB, param_grid=params_GaussianNB, cv=cv, verbose=1, scoring='accuracy')\n",
        "# Fit each model\n",
        "gs_GaussianNB.fit(X_train_rus, y_train_rus)\n",
        "# Get the best parameters and best model\n",
        "best_params_GaussianNB = gs_GaussianNB.best_params_\n",
        "best_model_GaussianNB = gs_GaussianNB.best_estimator_\n",
        "# Display the results for each model\n",
        "print(\"Best Parameters GaussianNB: \", best_params_GaussianNB)\n",
        "print(\"Best Model GaussianNB: \", best_model_GaussianNB)"
      ],
      "metadata": {
        "id": "zmcHbIYHJcgE",
        "outputId": "41cca1ca-3526-4d15-f00c-c37de959e713",
        "colab": {
          "base_uri": "https://localhost:8080/"
        }
      },
      "execution_count": null,
      "outputs": [
        {
          "output_type": "stream",
          "name": "stdout",
          "text": [
            "Fitting 2 folds for each of 100 candidates, totalling 200 fits\n",
            "Best Parameters GaussianNB:  {'var_smoothing': 0.1}\n",
            "Best Model GaussianNB:  GaussianNB(var_smoothing=0.1)\n"
          ]
        }
      ]
    },
    {
      "cell_type": "code",
      "source": [
        "# Predict on the test set\n",
        "\n",
        "y_pred_GaussianNB = gs_GaussianNB.best_estimator_.predict(X_test_rus)"
      ],
      "metadata": {
        "id": "c47Q5yRmNogt"
      },
      "execution_count": null,
      "outputs": []
    },
    {
      "cell_type": "code",
      "source": [
        "print(y_pred_GaussianNB)"
      ],
      "metadata": {
        "id": "5dRdVpXwN5E0",
        "outputId": "a0b12d7f-300b-4c99-b853-af34db4eb903",
        "colab": {
          "base_uri": "https://localhost:8080/"
        }
      },
      "execution_count": null,
      "outputs": [
        {
          "output_type": "stream",
          "name": "stdout",
          "text": [
            "[1 1 1 ... 0 1 1]\n"
          ]
        }
      ]
    },
    {
      "cell_type": "code",
      "source": [
        "# Model evaluation\n",
        "accuracy = accuracy_score(y_test_rus, y_pred_GaussianNB)\n",
        "print(f\"Accuracy: {accuracy:.2f}\")\n",
        "\n",
        "# Classification report and confusion matrix\n",
        "print(\"\\nClassification Report:\")\n",
        "print(classification_report(y_test_rus, y_pred_GaussianNB))\n",
        "\n",
        "print(\"\\nConfusion Matrix:\")\n",
        "print(confusion_matrix(y_test_rus, y_pred_GaussianNB))"
      ],
      "metadata": {
        "id": "hGCs57qEOoPN",
        "outputId": "d3dc5b4d-1905-41c7-e7d4-fb392239cd92",
        "colab": {
          "base_uri": "https://localhost:8080/"
        }
      },
      "execution_count": null,
      "outputs": [
        {
          "output_type": "stream",
          "name": "stdout",
          "text": [
            "Accuracy: 0.45\n",
            "\n",
            "Classification Report:\n",
            "              precision    recall  f1-score   support\n",
            "\n",
            "           0       0.50      0.36      0.42     14419\n",
            "           1       0.43      0.97      0.59     14578\n",
            "           2       0.45      0.00      0.01     14447\n",
            "\n",
            "    accuracy                           0.45     43444\n",
            "   macro avg       0.46      0.44      0.34     43444\n",
            "weighted avg       0.46      0.45      0.34     43444\n",
            "\n",
            "\n",
            "Confusion Matrix:\n",
            "[[ 5221  9124    74]\n",
            " [  461 14110     7]\n",
            " [ 4666  9715    66]]\n"
          ]
        }
      ]
    },
    {
      "cell_type": "markdown",
      "source": [
        "## Multinomial naive Bayes with random under sampling"
      ],
      "metadata": {
        "id": "AmxXNPJP_Rxz"
      }
    },
    {
      "cell_type": "code",
      "source": [
        "from sklearn.naive_bayes import MultinomialNB\n",
        "\n",
        "# Set up cross-validation\n",
        "cv = RepeatedStratifiedKFold(n_splits=2, n_repeats=1, random_state=1)\n",
        "\n",
        "# Define the parameter grid\n",
        "params_MultinomialNB = {'alpha': np.logspace(0, -9, num=100)}  # 'alpha' is used in MultinomialNB instead of 'var_smoothing'\n",
        "\n",
        "# Create an instance of Multinomial Naive Bayes model\n",
        "model_MultinomialNB = MultinomialNB()\n",
        "\n",
        "# Create an instance of GridSearchCV\n",
        "gs_MultinomialNB = GridSearchCV(estimator=model_MultinomialNB, param_grid=params_MultinomialNB, cv=cv, verbose=1, scoring='accuracy')\n",
        "\n",
        "# Fit the model\n",
        "gs_MultinomialNB.fit(X_train_rus, y_train_rus)\n",
        "\n",
        "# Get the best parameters and best model\n",
        "best_params_MultinomialNB = gs_MultinomialNB.best_params_\n",
        "best_model_MultinomialNB = gs_MultinomialNB.best_estimator_\n",
        "\n",
        "# Display the results\n",
        "print(\"Best Parameters MultinomialNB: \", best_params_MultinomialNB)\n",
        "print(\"Best Model MultinomialNB: \", best_model_MultinomialNB)\n",
        "\n",
        "# Predict on the test set\n",
        "y_pred_MultinomialNB = gs_MultinomialNB.best_estimator_.predict(X_test_rus)\n"
      ],
      "metadata": {
        "id": "qVIt0sBuPxv4",
        "outputId": "76f20f84-4f12-4051-8e7e-50e1f3ecfdf1",
        "colab": {
          "base_uri": "https://localhost:8080/"
        }
      },
      "execution_count": null,
      "outputs": [
        {
          "output_type": "stream",
          "name": "stdout",
          "text": [
            "Fitting 2 folds for each of 100 candidates, totalling 200 fits\n",
            "Best Parameters MultinomialNB:  {'alpha': 1.0}\n",
            "Best Model MultinomialNB:  MultinomialNB()\n"
          ]
        }
      ]
    },
    {
      "cell_type": "code",
      "source": [
        "# Model evaluation\n",
        "accuracy = accuracy_score(y_test_rus, y_pred_GaussianNB)\n",
        "print(f\"Accuracy: {accuracy:.2f}\")\n",
        "\n",
        "# Classification report and confusion matrix\n",
        "print(\"\\nClassification Report:\")\n",
        "print(classification_report(y_test_rus, y_pred_GaussianNB))\n",
        "\n",
        "print(\"\\nConfusion Matrix:\")\n",
        "print(confusion_matrix(y_test_rus, y_pred_GaussianNB))"
      ],
      "metadata": {
        "id": "MwrmLvueP4FW",
        "outputId": "6a8965de-03af-409a-fa99-4d7cef15b02a",
        "colab": {
          "base_uri": "https://localhost:8080/"
        }
      },
      "execution_count": null,
      "outputs": [
        {
          "output_type": "stream",
          "name": "stdout",
          "text": [
            "Accuracy: 0.45\n",
            "\n",
            "Classification Report:\n",
            "              precision    recall  f1-score   support\n",
            "\n",
            "           0       0.50      0.36      0.42     14419\n",
            "           1       0.43      0.97      0.59     14578\n",
            "           2       0.45      0.00      0.01     14447\n",
            "\n",
            "    accuracy                           0.45     43444\n",
            "   macro avg       0.46      0.44      0.34     43444\n",
            "weighted avg       0.46      0.45      0.34     43444\n",
            "\n",
            "\n",
            "Confusion Matrix:\n",
            "[[ 5221  9124    74]\n",
            " [  461 14110     7]\n",
            " [ 4666  9715    66]]\n"
          ]
        }
      ]
    }
  ]
}