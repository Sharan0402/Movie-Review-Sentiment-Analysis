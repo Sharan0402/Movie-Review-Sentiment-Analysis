{
  "cells": [
    {
      "cell_type": "markdown",
      "source": [
        "# Read Data"
      ],
      "metadata": {
        "id": "6GrDI1Ke_69B"
      }
    },
    {
      "cell_type": "code",
      "execution_count": null,
      "metadata": {
        "colab": {
          "base_uri": "https://localhost:8080/"
        },
        "id": "ZI6_x4lAwn-i",
        "outputId": "f1ef0f5b-b1a1-4ff2-a18e-167335ba2f48"
      },
      "outputs": [
        {
          "name": "stdout",
          "output_type": "stream",
          "text": [
            "Mounted at /content/drive\n"
          ]
        }
      ],
      "source": [
        "from google.colab import drive\n",
        "drive.mount(\"/content/drive\")"
      ]
    },
    {
      "cell_type": "markdown",
      "source": [
        "## Required imports"
      ],
      "metadata": {
        "id": "otu8XZvA_-k6"
      }
    },
    {
      "cell_type": "code",
      "execution_count": null,
      "metadata": {
        "id": "gcmOPBKLwwg_"
      },
      "outputs": [],
      "source": [
        "import pandas as pd\n",
        "import numpy as np\n",
        "from sklearn.preprocessing import LabelEncoder\n",
        "from sklearn.feature_extraction.text import CountVectorizer\n",
        "from tensorflow.keras.preprocessing.sequence import pad_sequences\n",
        "from tensorflow.keras.models import Sequential\n",
        "from tensorflow.keras.layers import Embedding, LSTM, Dropout, Bidirectional, GlobalMaxPooling1D, Dense, BatchNormalization, Activation\n",
        "from imblearn.under_sampling import RandomUnderSampler\n",
        "from imblearn.over_sampling import RandomOverSampler\n",
        "from sklearn.model_selection import train_test_split\n",
        "from tensorflow.keras.optimizers import Adam\n",
        "from sklearn.metrics import classification_report"
      ]
    },
    {
      "cell_type": "code",
      "execution_count": null,
      "metadata": {
        "id": "dA3rpHzww4JR"
      },
      "outputs": [],
      "source": [
        "path=\"/content/drive/MyDrive/ML_project_datasheets/Final_code/labeled_data.csv\"\n",
        "data=pd.read_csv(path)"
      ]
    },
    {
      "cell_type": "code",
      "execution_count": null,
      "metadata": {
        "id": "3gIviTPmw7Oa"
      },
      "outputs": [],
      "source": [
        "data['reviews_text_new'] = data['After_lemmatization'].copy()"
      ]
    },
    {
      "cell_type": "code",
      "execution_count": null,
      "metadata": {
        "id": "6TaGTC3bxEAY"
      },
      "outputs": [],
      "source": [
        "Data = data[['reviews_text_new', 'Overall Sentiment']]"
      ]
    },
    {
      "cell_type": "code",
      "execution_count": null,
      "metadata": {
        "colab": {
          "base_uri": "https://localhost:8080/",
          "height": 206
        },
        "id": "zQi7y_WExJtd",
        "outputId": "7345478a-d052-428c-b35a-2d0eaa78e953"
      },
      "outputs": [
        {
          "data": {
            "text/html": [
              "\n",
              "  <div id=\"df-503bf12c-e81b-4ea1-b886-e21b2ff68669\" class=\"colab-df-container\">\n",
              "    <div>\n",
              "<style scoped>\n",
              "    .dataframe tbody tr th:only-of-type {\n",
              "        vertical-align: middle;\n",
              "    }\n",
              "\n",
              "    .dataframe tbody tr th {\n",
              "        vertical-align: top;\n",
              "    }\n",
              "\n",
              "    .dataframe thead th {\n",
              "        text-align: right;\n",
              "    }\n",
              "</style>\n",
              "<table border=\"1\" class=\"dataframe\">\n",
              "  <thead>\n",
              "    <tr style=\"text-align: right;\">\n",
              "      <th></th>\n",
              "      <th>reviews_text_new</th>\n",
              "      <th>Overall Sentiment</th>\n",
              "    </tr>\n",
              "  </thead>\n",
              "  <tbody>\n",
              "    <tr>\n",
              "      <th>0</th>\n",
              "      <td>thought depressing</td>\n",
              "      <td>Positive</td>\n",
              "    </tr>\n",
              "    <tr>\n",
              "      <th>1</th>\n",
              "      <td>one time favorite flick adult themed comedy dr...</td>\n",
              "      <td>Positive</td>\n",
              "    </tr>\n",
              "    <tr>\n",
              "      <th>2</th>\n",
              "      <td>love love love great movie</td>\n",
              "      <td>Positive</td>\n",
              "    </tr>\n",
              "    <tr>\n",
              "      <th>3</th>\n",
              "      <td>product deliver excellent time</td>\n",
              "      <td>Positive</td>\n",
              "    </tr>\n",
              "    <tr>\n",
              "      <th>4</th>\n",
              "      <td>terrific movie</td>\n",
              "      <td>Neutral</td>\n",
              "    </tr>\n",
              "  </tbody>\n",
              "</table>\n",
              "</div>\n",
              "    <div class=\"colab-df-buttons\">\n",
              "\n",
              "  <div class=\"colab-df-container\">\n",
              "    <button class=\"colab-df-convert\" onclick=\"convertToInteractive('df-503bf12c-e81b-4ea1-b886-e21b2ff68669')\"\n",
              "            title=\"Convert this dataframe to an interactive table.\"\n",
              "            style=\"display:none;\">\n",
              "\n",
              "  <svg xmlns=\"http://www.w3.org/2000/svg\" height=\"24px\" viewBox=\"0 -960 960 960\">\n",
              "    <path d=\"M120-120v-720h720v720H120Zm60-500h600v-160H180v160Zm220 220h160v-160H400v160Zm0 220h160v-160H400v160ZM180-400h160v-160H180v160Zm440 0h160v-160H620v160ZM180-180h160v-160H180v160Zm440 0h160v-160H620v160Z\"/>\n",
              "  </svg>\n",
              "    </button>\n",
              "\n",
              "  <style>\n",
              "    .colab-df-container {\n",
              "      display:flex;\n",
              "      gap: 12px;\n",
              "    }\n",
              "\n",
              "    .colab-df-convert {\n",
              "      background-color: #E8F0FE;\n",
              "      border: none;\n",
              "      border-radius: 50%;\n",
              "      cursor: pointer;\n",
              "      display: none;\n",
              "      fill: #1967D2;\n",
              "      height: 32px;\n",
              "      padding: 0 0 0 0;\n",
              "      width: 32px;\n",
              "    }\n",
              "\n",
              "    .colab-df-convert:hover {\n",
              "      background-color: #E2EBFA;\n",
              "      box-shadow: 0px 1px 2px rgba(60, 64, 67, 0.3), 0px 1px 3px 1px rgba(60, 64, 67, 0.15);\n",
              "      fill: #174EA6;\n",
              "    }\n",
              "\n",
              "    .colab-df-buttons div {\n",
              "      margin-bottom: 4px;\n",
              "    }\n",
              "\n",
              "    [theme=dark] .colab-df-convert {\n",
              "      background-color: #3B4455;\n",
              "      fill: #D2E3FC;\n",
              "    }\n",
              "\n",
              "    [theme=dark] .colab-df-convert:hover {\n",
              "      background-color: #434B5C;\n",
              "      box-shadow: 0px 1px 3px 1px rgba(0, 0, 0, 0.15);\n",
              "      filter: drop-shadow(0px 1px 2px rgba(0, 0, 0, 0.3));\n",
              "      fill: #FFFFFF;\n",
              "    }\n",
              "  </style>\n",
              "\n",
              "    <script>\n",
              "      const buttonEl =\n",
              "        document.querySelector('#df-503bf12c-e81b-4ea1-b886-e21b2ff68669 button.colab-df-convert');\n",
              "      buttonEl.style.display =\n",
              "        google.colab.kernel.accessAllowed ? 'block' : 'none';\n",
              "\n",
              "      async function convertToInteractive(key) {\n",
              "        const element = document.querySelector('#df-503bf12c-e81b-4ea1-b886-e21b2ff68669');\n",
              "        const dataTable =\n",
              "          await google.colab.kernel.invokeFunction('convertToInteractive',\n",
              "                                                    [key], {});\n",
              "        if (!dataTable) return;\n",
              "\n",
              "        const docLinkHtml = 'Like what you see? Visit the ' +\n",
              "          '<a target=\"_blank\" href=https://colab.research.google.com/notebooks/data_table.ipynb>data table notebook</a>'\n",
              "          + ' to learn more about interactive tables.';\n",
              "        element.innerHTML = '';\n",
              "        dataTable['output_type'] = 'display_data';\n",
              "        await google.colab.output.renderOutput(dataTable, element);\n",
              "        const docLink = document.createElement('div');\n",
              "        docLink.innerHTML = docLinkHtml;\n",
              "        element.appendChild(docLink);\n",
              "      }\n",
              "    </script>\n",
              "  </div>\n",
              "\n",
              "\n",
              "<div id=\"df-a60e3faa-a8be-47b3-bfd2-1b9c4d5353a6\">\n",
              "  <button class=\"colab-df-quickchart\" onclick=\"quickchart('df-a60e3faa-a8be-47b3-bfd2-1b9c4d5353a6')\"\n",
              "            title=\"Suggest charts\"\n",
              "            style=\"display:none;\">\n",
              "\n",
              "<svg xmlns=\"http://www.w3.org/2000/svg\" height=\"24px\"viewBox=\"0 0 24 24\"\n",
              "     width=\"24px\">\n",
              "    <g>\n",
              "        <path d=\"M19 3H5c-1.1 0-2 .9-2 2v14c0 1.1.9 2 2 2h14c1.1 0 2-.9 2-2V5c0-1.1-.9-2-2-2zM9 17H7v-7h2v7zm4 0h-2V7h2v10zm4 0h-2v-4h2v4z\"/>\n",
              "    </g>\n",
              "</svg>\n",
              "  </button>\n",
              "\n",
              "<style>\n",
              "  .colab-df-quickchart {\n",
              "      --bg-color: #E8F0FE;\n",
              "      --fill-color: #1967D2;\n",
              "      --hover-bg-color: #E2EBFA;\n",
              "      --hover-fill-color: #174EA6;\n",
              "      --disabled-fill-color: #AAA;\n",
              "      --disabled-bg-color: #DDD;\n",
              "  }\n",
              "\n",
              "  [theme=dark] .colab-df-quickchart {\n",
              "      --bg-color: #3B4455;\n",
              "      --fill-color: #D2E3FC;\n",
              "      --hover-bg-color: #434B5C;\n",
              "      --hover-fill-color: #FFFFFF;\n",
              "      --disabled-bg-color: #3B4455;\n",
              "      --disabled-fill-color: #666;\n",
              "  }\n",
              "\n",
              "  .colab-df-quickchart {\n",
              "    background-color: var(--bg-color);\n",
              "    border: none;\n",
              "    border-radius: 50%;\n",
              "    cursor: pointer;\n",
              "    display: none;\n",
              "    fill: var(--fill-color);\n",
              "    height: 32px;\n",
              "    padding: 0;\n",
              "    width: 32px;\n",
              "  }\n",
              "\n",
              "  .colab-df-quickchart:hover {\n",
              "    background-color: var(--hover-bg-color);\n",
              "    box-shadow: 0 1px 2px rgba(60, 64, 67, 0.3), 0 1px 3px 1px rgba(60, 64, 67, 0.15);\n",
              "    fill: var(--button-hover-fill-color);\n",
              "  }\n",
              "\n",
              "  .colab-df-quickchart-complete:disabled,\n",
              "  .colab-df-quickchart-complete:disabled:hover {\n",
              "    background-color: var(--disabled-bg-color);\n",
              "    fill: var(--disabled-fill-color);\n",
              "    box-shadow: none;\n",
              "  }\n",
              "\n",
              "  .colab-df-spinner {\n",
              "    border: 2px solid var(--fill-color);\n",
              "    border-color: transparent;\n",
              "    border-bottom-color: var(--fill-color);\n",
              "    animation:\n",
              "      spin 1s steps(1) infinite;\n",
              "  }\n",
              "\n",
              "  @keyframes spin {\n",
              "    0% {\n",
              "      border-color: transparent;\n",
              "      border-bottom-color: var(--fill-color);\n",
              "      border-left-color: var(--fill-color);\n",
              "    }\n",
              "    20% {\n",
              "      border-color: transparent;\n",
              "      border-left-color: var(--fill-color);\n",
              "      border-top-color: var(--fill-color);\n",
              "    }\n",
              "    30% {\n",
              "      border-color: transparent;\n",
              "      border-left-color: var(--fill-color);\n",
              "      border-top-color: var(--fill-color);\n",
              "      border-right-color: var(--fill-color);\n",
              "    }\n",
              "    40% {\n",
              "      border-color: transparent;\n",
              "      border-right-color: var(--fill-color);\n",
              "      border-top-color: var(--fill-color);\n",
              "    }\n",
              "    60% {\n",
              "      border-color: transparent;\n",
              "      border-right-color: var(--fill-color);\n",
              "    }\n",
              "    80% {\n",
              "      border-color: transparent;\n",
              "      border-right-color: var(--fill-color);\n",
              "      border-bottom-color: var(--fill-color);\n",
              "    }\n",
              "    90% {\n",
              "      border-color: transparent;\n",
              "      border-bottom-color: var(--fill-color);\n",
              "    }\n",
              "  }\n",
              "</style>\n",
              "\n",
              "  <script>\n",
              "    async function quickchart(key) {\n",
              "      const quickchartButtonEl =\n",
              "        document.querySelector('#' + key + ' button');\n",
              "      quickchartButtonEl.disabled = true;  // To prevent multiple clicks.\n",
              "      quickchartButtonEl.classList.add('colab-df-spinner');\n",
              "      try {\n",
              "        const charts = await google.colab.kernel.invokeFunction(\n",
              "            'suggestCharts', [key], {});\n",
              "      } catch (error) {\n",
              "        console.error('Error during call to suggestCharts:', error);\n",
              "      }\n",
              "      quickchartButtonEl.classList.remove('colab-df-spinner');\n",
              "      quickchartButtonEl.classList.add('colab-df-quickchart-complete');\n",
              "    }\n",
              "    (() => {\n",
              "      let quickchartButtonEl =\n",
              "        document.querySelector('#df-a60e3faa-a8be-47b3-bfd2-1b9c4d5353a6 button');\n",
              "      quickchartButtonEl.style.display =\n",
              "        google.colab.kernel.accessAllowed ? 'block' : 'none';\n",
              "    })();\n",
              "  </script>\n",
              "</div>\n",
              "    </div>\n",
              "  </div>\n"
            ],
            "text/plain": [
              "                                    reviews_text_new Overall Sentiment\n",
              "0                                 thought depressing          Positive\n",
              "1  one time favorite flick adult themed comedy dr...          Positive\n",
              "2                         love love love great movie          Positive\n",
              "3                     product deliver excellent time          Positive\n",
              "4                                     terrific movie           Neutral"
            ]
          },
          "execution_count": 6,
          "metadata": {},
          "output_type": "execute_result"
        }
      ],
      "source": [
        "Data.head()"
      ]
    },
    {
      "cell_type": "markdown",
      "source": [
        "## Encode lables"
      ],
      "metadata": {
        "id": "95AMpFxfAMTO"
      }
    },
    {
      "cell_type": "code",
      "execution_count": null,
      "metadata": {
        "id": "iGlX_RsixMqz"
      },
      "outputs": [],
      "source": [
        "label_encoder = LabelEncoder()\n",
        "labels = label_encoder.fit_transform(Data['Overall Sentiment'])"
      ]
    },
    {
      "cell_type": "code",
      "execution_count": null,
      "metadata": {
        "id": "gusNk-A9xZlJ"
      },
      "outputs": [],
      "source": [
        "# Create a CountVectorizer to convert text to a bag-of-words matrix\n",
        "bow_counts = CountVectorizer()\n",
        "bow_data = bow_counts.fit_transform(Data['reviews_text_new'])"
      ]
    },
    {
      "cell_type": "code",
      "execution_count": null,
      "metadata": {
        "colab": {
          "base_uri": "https://localhost:8080/"
        },
        "id": "JvdZRBe-RAwS",
        "outputId": "6cb0a99c-4daa-4f83-872a-10ed27a292cb"
      },
      "outputs": [
        {
          "data": {
            "text/plain": [
              "(500000, 198145)"
            ]
          },
          "execution_count": 18,
          "metadata": {},
          "output_type": "execute_result"
        }
      ],
      "source": [
        "bow_data.shape"
      ]
    },
    {
      "cell_type": "code",
      "execution_count": null,
      "metadata": {
        "id": "2zV3FNcLU5YA"
      },
      "outputs": [],
      "source": [
        "X = bow_data\n",
        "y = labels"
      ]
    },
    {
      "cell_type": "code",
      "source": [
        "X_train, X_test, y_train, y_test = train_test_split(X, y, test_size=0.3, random_state=42)"
      ],
      "metadata": {
        "id": "EcyA8ki7An7P"
      },
      "execution_count": null,
      "outputs": []
    },
    {
      "cell_type": "markdown",
      "source": [
        "# Ensemble classifier"
      ],
      "metadata": {
        "id": "cn-cMyZXAiwa"
      }
    },
    {
      "cell_type": "markdown",
      "source": [
        "## Voting classifier using random under sampled data"
      ],
      "metadata": {
        "id": "r0jZE0RpAups"
      }
    },
    {
      "cell_type": "code",
      "execution_count": null,
      "metadata": {
        "id": "SNyFbRSr5nLC"
      },
      "outputs": [],
      "source": [
        "from sklearn.model_selection import train_test_split\n",
        "rus = RandomUnderSampler(random_state=42)\n",
        "X_rus, y_rus = rus.fit_resample(X, y)\n",
        "# Split the data into training and testing sets\n",
        "X_train_rus,X_test_rus,y_train_rus,y_test_rus=train_test_split(X_rus, y_rus,test_size=0.1, random_state=0)"
      ]
    },
    {
      "cell_type": "code",
      "execution_count": null,
      "metadata": {
        "colab": {
          "background_save": true
        },
        "id": "l-QOTMRGYpSJ",
        "outputId": "a21b05ed-96b9-4708-e135-05aaae9dc272"
      },
      "outputs": [
        {
          "data": {
            "text/html": [
              "<style>#sk-container-id-1 {color: black;background-color: white;}#sk-container-id-1 pre{padding: 0;}#sk-container-id-1 div.sk-toggleable {background-color: white;}#sk-container-id-1 label.sk-toggleable__label {cursor: pointer;display: block;width: 100%;margin-bottom: 0;padding: 0.3em;box-sizing: border-box;text-align: center;}#sk-container-id-1 label.sk-toggleable__label-arrow:before {content: \"▸\";float: left;margin-right: 0.25em;color: #696969;}#sk-container-id-1 label.sk-toggleable__label-arrow:hover:before {color: black;}#sk-container-id-1 div.sk-estimator:hover label.sk-toggleable__label-arrow:before {color: black;}#sk-container-id-1 div.sk-toggleable__content {max-height: 0;max-width: 0;overflow: hidden;text-align: left;background-color: #f0f8ff;}#sk-container-id-1 div.sk-toggleable__content pre {margin: 0.2em;color: black;border-radius: 0.25em;background-color: #f0f8ff;}#sk-container-id-1 input.sk-toggleable__control:checked~div.sk-toggleable__content {max-height: 200px;max-width: 100%;overflow: auto;}#sk-container-id-1 input.sk-toggleable__control:checked~label.sk-toggleable__label-arrow:before {content: \"▾\";}#sk-container-id-1 div.sk-estimator input.sk-toggleable__control:checked~label.sk-toggleable__label {background-color: #d4ebff;}#sk-container-id-1 div.sk-label input.sk-toggleable__control:checked~label.sk-toggleable__label {background-color: #d4ebff;}#sk-container-id-1 input.sk-hidden--visually {border: 0;clip: rect(1px 1px 1px 1px);clip: rect(1px, 1px, 1px, 1px);height: 1px;margin: -1px;overflow: hidden;padding: 0;position: absolute;width: 1px;}#sk-container-id-1 div.sk-estimator {font-family: monospace;background-color: #f0f8ff;border: 1px dotted black;border-radius: 0.25em;box-sizing: border-box;margin-bottom: 0.5em;}#sk-container-id-1 div.sk-estimator:hover {background-color: #d4ebff;}#sk-container-id-1 div.sk-parallel-item::after {content: \"\";width: 100%;border-bottom: 1px solid gray;flex-grow: 1;}#sk-container-id-1 div.sk-label:hover label.sk-toggleable__label {background-color: #d4ebff;}#sk-container-id-1 div.sk-serial::before {content: \"\";position: absolute;border-left: 1px solid gray;box-sizing: border-box;top: 0;bottom: 0;left: 50%;z-index: 0;}#sk-container-id-1 div.sk-serial {display: flex;flex-direction: column;align-items: center;background-color: white;padding-right: 0.2em;padding-left: 0.2em;position: relative;}#sk-container-id-1 div.sk-item {position: relative;z-index: 1;}#sk-container-id-1 div.sk-parallel {display: flex;align-items: stretch;justify-content: center;background-color: white;position: relative;}#sk-container-id-1 div.sk-item::before, #sk-container-id-1 div.sk-parallel-item::before {content: \"\";position: absolute;border-left: 1px solid gray;box-sizing: border-box;top: 0;bottom: 0;left: 50%;z-index: -1;}#sk-container-id-1 div.sk-parallel-item {display: flex;flex-direction: column;z-index: 1;position: relative;background-color: white;}#sk-container-id-1 div.sk-parallel-item:first-child::after {align-self: flex-end;width: 50%;}#sk-container-id-1 div.sk-parallel-item:last-child::after {align-self: flex-start;width: 50%;}#sk-container-id-1 div.sk-parallel-item:only-child::after {width: 0;}#sk-container-id-1 div.sk-dashed-wrapped {border: 1px dashed gray;margin: 0 0.4em 0.5em 0.4em;box-sizing: border-box;padding-bottom: 0.4em;background-color: white;}#sk-container-id-1 div.sk-label label {font-family: monospace;font-weight: bold;display: inline-block;line-height: 1.2em;}#sk-container-id-1 div.sk-label-container {text-align: center;}#sk-container-id-1 div.sk-container {/* jupyter's `normalize.less` sets `[hidden] { display: none; }` but bootstrap.min.css set `[hidden] { display: none !important; }` so we also need the `!important` here to be able to override the default hidden behavior on the sphinx rendered scikit-learn.org. See: https://github.com/scikit-learn/scikit-learn/issues/21755 */display: inline-block !important;position: relative;}#sk-container-id-1 div.sk-text-repr-fallback {display: none;}</style><div id=\"sk-container-id-1\" class=\"sk-top-container\"><div class=\"sk-text-repr-fallback\"><pre>VotingClassifier(estimators=[(&#x27;lrc&#x27;,\n",
              "                              LogisticRegression(n_jobs=-1, random_state=0)),\n",
              "                             (&#x27;svc&#x27;, SVC(C=1, random_state=0)),\n",
              "                             (&#x27;rfct&#x27;,\n",
              "                              RandomForestClassifier(n_jobs=-1,\n",
              "                                                     random_state=0))])</pre><b>In a Jupyter environment, please rerun this cell to show the HTML representation or trust the notebook. <br />On GitHub, the HTML representation is unable to render, please try loading this page with nbviewer.org.</b></div><div class=\"sk-container\" hidden><div class=\"sk-item sk-dashed-wrapped\"><div class=\"sk-label-container\"><div class=\"sk-label sk-toggleable\"><input class=\"sk-toggleable__control sk-hidden--visually\" id=\"sk-estimator-id-1\" type=\"checkbox\" ><label for=\"sk-estimator-id-1\" class=\"sk-toggleable__label sk-toggleable__label-arrow\">VotingClassifier</label><div class=\"sk-toggleable__content\"><pre>VotingClassifier(estimators=[(&#x27;lrc&#x27;,\n",
              "                              LogisticRegression(n_jobs=-1, random_state=0)),\n",
              "                             (&#x27;svc&#x27;, SVC(C=1, random_state=0)),\n",
              "                             (&#x27;rfct&#x27;,\n",
              "                              RandomForestClassifier(n_jobs=-1,\n",
              "                                                     random_state=0))])</pre></div></div></div><div class=\"sk-parallel\"><div class=\"sk-parallel-item\"><div class=\"sk-item\"><div class=\"sk-label-container\"><div class=\"sk-label sk-toggleable\"><label>lrc</label></div></div><div class=\"sk-serial\"><div class=\"sk-item\"><div class=\"sk-estimator sk-toggleable\"><input class=\"sk-toggleable__control sk-hidden--visually\" id=\"sk-estimator-id-2\" type=\"checkbox\" ><label for=\"sk-estimator-id-2\" class=\"sk-toggleable__label sk-toggleable__label-arrow\">LogisticRegression</label><div class=\"sk-toggleable__content\"><pre>LogisticRegression(n_jobs=-1, random_state=0)</pre></div></div></div></div></div></div><div class=\"sk-parallel-item\"><div class=\"sk-item\"><div class=\"sk-label-container\"><div class=\"sk-label sk-toggleable\"><label>svc</label></div></div><div class=\"sk-serial\"><div class=\"sk-item\"><div class=\"sk-estimator sk-toggleable\"><input class=\"sk-toggleable__control sk-hidden--visually\" id=\"sk-estimator-id-3\" type=\"checkbox\" ><label for=\"sk-estimator-id-3\" class=\"sk-toggleable__label sk-toggleable__label-arrow\">SVC</label><div class=\"sk-toggleable__content\"><pre>SVC(C=1, random_state=0)</pre></div></div></div></div></div></div><div class=\"sk-parallel-item\"><div class=\"sk-item\"><div class=\"sk-label-container\"><div class=\"sk-label sk-toggleable\"><label>rfct</label></div></div><div class=\"sk-serial\"><div class=\"sk-item\"><div class=\"sk-estimator sk-toggleable\"><input class=\"sk-toggleable__control sk-hidden--visually\" id=\"sk-estimator-id-4\" type=\"checkbox\" ><label for=\"sk-estimator-id-4\" class=\"sk-toggleable__label sk-toggleable__label-arrow\">RandomForestClassifier</label><div class=\"sk-toggleable__content\"><pre>RandomForestClassifier(n_jobs=-1, random_state=0)</pre></div></div></div></div></div></div></div></div></div></div>"
            ],
            "text/plain": [
              "VotingClassifier(estimators=[('lrc',\n",
              "                              LogisticRegression(n_jobs=-1, random_state=0)),\n",
              "                             ('svc', SVC(C=1, random_state=0)),\n",
              "                             ('rfct',\n",
              "                              RandomForestClassifier(n_jobs=-1,\n",
              "                                                     random_state=0))])"
            ]
          },
          "execution_count": 17,
          "metadata": {},
          "output_type": "execute_result"
        }
      ],
      "source": [
        "from sklearn.ensemble import VotingClassifier\n",
        "from sklearn.ensemble import RandomForestClassifier\n",
        "from sklearn.linear_model import LogisticRegression\n",
        "from sklearn.svm import SVC\n",
        "\n",
        "# Define voting classifier using LR,NB and RF classifiers.\n",
        "lrc = LogisticRegression(n_jobs=-1,random_state=0)\n",
        "svc = SVC(C = 1,random_state=0)\n",
        "rfc = RandomForestClassifier(n_jobs=-1,random_state=0)\n",
        "\n",
        "voting_clf = VotingClassifier(estimators=[('lrc', lrc), ('svc', svc), ('rfct', rfc)],\n",
        "                               voting='hard')\n",
        "\n",
        "voting_clf.fit(X_train_rus, y_train_rus)"
      ]
    },
    {
      "cell_type": "code",
      "execution_count": null,
      "metadata": {
        "id": "-bkv4AjSYtYd",
        "colab": {
          "base_uri": "https://localhost:8080/"
        },
        "outputId": "f6a5b48c-57ff-4cb6-8013-b08beeffd2c1"
      },
      "outputs": [
        {
          "metadata": {
            "tags": null
          },
          "name": "stdout",
          "output_type": "stream",
          "text": [
            "LogisticRegression 0.842417825246294\n",
            "SVC 0.8383666329067305\n",
            "RandomForestClassifier 0.8075223275941442\n"
          ]
        }
      ],
      "source": [
        "from sklearn.metrics import accuracy_score\n",
        "for clf in (lrc, svc, rfc, voting_clf):\n",
        "  clf.fit(X_train_rus, y_train_rus)\n"
      ]
    },
    {
      "cell_type": "code",
      "source": [
        "  y_pred = clf.predict(X_test_rus)\n",
        "  print(clf.__class__.__name__, accuracy_score(y_test_rus, y_pred))"
      ],
      "metadata": {
        "id": "-DNGp0AbnCR3"
      },
      "execution_count": null,
      "outputs": []
    },
    {
      "cell_type": "code",
      "execution_count": null,
      "metadata": {
        "id": "KH_gAno0Yx2j"
      },
      "outputs": [],
      "source": [
        "# voting_clf.fit(X_train_sm, y_train_sm)\n",
        "y_pred = voting_clf.predict(X_test_rus)"
      ]
    },
    {
      "cell_type": "code",
      "source": [
        "from sklearn.metrics import accuracy_score, classification_report, confusion_matrix\n",
        "# Model evaluation\n",
        "accuracy = accuracy_score(y_test_rus, y_pred)\n",
        "print(f\"Accuracy: {accuracy:.2f}\")\n",
        "\n",
        "# Classification report and confusion matrix\n",
        "print(\"\\nClassification Report:\")\n",
        "print(classification_report(y_test_rus, y_pred))\n",
        "\n",
        "print(\"\\nConfusion Matrix:\")\n",
        "print(confusion_matrix(y_test_rus, y_pred))"
      ],
      "metadata": {
        "colab": {
          "base_uri": "https://localhost:8080/"
        },
        "id": "EJqm2lZEhJVU",
        "outputId": "342cbac8-be1b-4005-e7ad-7196952367d6"
      },
      "execution_count": null,
      "outputs": [
        {
          "output_type": "stream",
          "name": "stdout",
          "text": [
            "Accuracy: 0.85\n",
            "\n",
            "Classification Report:\n",
            "              precision    recall  f1-score   support\n",
            "\n",
            "           0       0.84      0.85      0.85      7183\n",
            "           1       0.83      0.88      0.85      7329\n",
            "           2       0.88      0.81      0.84      7210\n",
            "\n",
            "    accuracy                           0.85     21722\n",
            "   macro avg       0.85      0.85      0.85     21722\n",
            "weighted avg       0.85      0.85      0.85     21722\n",
            "\n",
            "\n",
            "Confusion Matrix:\n",
            "[[6138  550  495]\n",
            " [ 576 6434  319]\n",
            " [ 607  791 5812]]\n"
          ]
        }
      ]
    },
    {
      "cell_type": "markdown",
      "source": [
        "# LSTM(Multi layer)"
      ],
      "metadata": {
        "id": "Cgd863XlA44r"
      }
    },
    {
      "cell_type": "markdown",
      "metadata": {
        "id": "_dVheWnD1KHo"
      },
      "source": [
        "**Dropout Layer:**\n",
        "Dropout layers help prevent overfitting by randomly setting a fraction of input units to 0 at each update during training. It can be added after the LSTM layer to regularize the network.\n",
        "\n",
        "**Bidirectional LSTM:**\n",
        "Bidirectional LSTMs process the input sequence in both forward and backward directions. They can capture contextual information from both past and future time steps.\n",
        "\n",
        "**GlobalMaxPooling1D Layer:**\n",
        "This layer can be added to reduce the spatial dimensions of the LSTM output and focus on the most important features.\n",
        "\n",
        "**Dense Layers:**\n",
        "After LSTM layers, you can add one or more dense layers to map the learned features to the output classes.\n",
        "\n",
        "**Batch Normalization:**\n",
        "Batch normalization can be added to normalize the activations of the network, potentially improving training stability and convergence."
      ]
    },
    {
      "cell_type": "markdown",
      "source": [
        "## LSTM (multi layer) with unbalanced data"
      ],
      "metadata": {
        "id": "lacxtHPrBDo4"
      }
    },
    {
      "cell_type": "code",
      "execution_count": null,
      "metadata": {
        "id": "oVtULVTc5_0T"
      },
      "outputs": [],
      "source": [
        "embedding_dim = 50\n",
        "lstm_units = 64\n",
        "output_units=3"
      ]
    },
    {
      "cell_type": "code",
      "execution_count": null,
      "metadata": {
        "id": "2PjlyhLv0pdf"
      },
      "outputs": [],
      "source": [
        "model = Sequential()\n",
        "model.add(Embedding(input_dim=bow_data.shape[1], output_dim=embedding_dim, input_length=max_sequence_length))\n",
        "model.add(LSTM(units=lstm_units, return_sequences=True))  # Ensure return_sequences=True for sequences\n",
        "model.add(Dropout(rate=0.5))\n",
        "model.add(GlobalMaxPooling1D())\n",
        "model.add(BatchNormalization())\n",
        "model.add(Dense(units=output_units, activation='softmax'))"
      ]
    },
    {
      "cell_type": "code",
      "execution_count": null,
      "metadata": {
        "colab": {
          "base_uri": "https://localhost:8080/"
        },
        "id": "0tYy443W2XbO",
        "outputId": "ba939bd4-2f5e-4ed3-e7a6-eff870aa609c"
      },
      "outputs": [
        {
          "name": "stdout",
          "output_type": "stream",
          "text": [
            "Epoch 1/10\n",
            "8750/8750 [==============================] - 2715s 310ms/step - loss: 0.4009 - accuracy: 0.8485 - val_loss: 0.4196 - val_accuracy: 0.8418\n",
            "Epoch 2/10\n",
            "8750/8750 [==============================] - 2585s 295ms/step - loss: 0.3240 - accuracy: 0.8807 - val_loss: 0.3884 - val_accuracy: 0.8619\n",
            "Epoch 3/10\n",
            "8750/8750 [==============================] - 2629s 300ms/step - loss: 0.2845 - accuracy: 0.8981 - val_loss: 0.4064 - val_accuracy: 0.8581\n",
            "Epoch 4/10\n",
            "8750/8750 [==============================] - 2597s 297ms/step - loss: 0.2523 - accuracy: 0.9105 - val_loss: 0.4124 - val_accuracy: 0.8394\n",
            "Epoch 5/10\n",
            "8750/8750 [==============================] - 2563s 293ms/step - loss: 0.2228 - accuracy: 0.9219 - val_loss: 0.3805 - val_accuracy: 0.8620\n",
            "Epoch 6/10\n",
            "8750/8750 [==============================] - 2543s 291ms/step - loss: 0.2012 - accuracy: 0.9297 - val_loss: 0.3726 - val_accuracy: 0.8673\n",
            "Epoch 7/10\n",
            "8750/8750 [==============================] - 2542s 291ms/step - loss: 0.1831 - accuracy: 0.9361 - val_loss: 0.4115 - val_accuracy: 0.8549\n",
            "Epoch 8/10\n",
            "8750/8750 [==============================] - 2556s 292ms/step - loss: 0.1713 - accuracy: 0.9404 - val_loss: 0.4235 - val_accuracy: 0.8456\n",
            "Epoch 9/10\n",
            "8750/8750 [==============================] - 2559s 292ms/step - loss: 0.1604 - accuracy: 0.9445 - val_loss: 0.4245 - val_accuracy: 0.8507\n",
            "Epoch 10/10\n",
            "8750/8750 [==============================] - 2538s 290ms/step - loss: 0.1513 - accuracy: 0.9477 - val_loss: 0.4210 - val_accuracy: 0.8575\n"
          ]
        },
        {
          "data": {
            "text/plain": [
              "<keras.src.callbacks.History at 0x7b4c582ce6e0>"
            ]
          },
          "execution_count": 23,
          "metadata": {},
          "output_type": "execute_result"
        }
      ],
      "source": [
        "from tensorflow.keras.optimizers import Adam\n",
        "\n",
        "# Compile the model\n",
        "model.compile(optimizer=Adam(learning_rate=0.001),\n",
        "              loss='sparse_categorical_crossentropy',\n",
        "              metrics=['accuracy'])\n",
        "\n",
        "# Train the model (assuming you have X_train, y_train as your training data)\n",
        "model.fit(X_train, y_train, epochs=10, batch_size=32, validation_split=0.2)\n"
      ]
    },
    {
      "cell_type": "code",
      "execution_count": null,
      "metadata": {
        "colab": {
          "base_uri": "https://localhost:8080/"
        },
        "id": "F9tOLbcb8nvb",
        "outputId": "9adef514-fdba-4292-bd22-162fccf3375c"
      },
      "outputs": [
        {
          "name": "stdout",
          "output_type": "stream",
          "text": [
            "4688/4688 [==============================] - 93s 20ms/step\n",
            "              precision    recall  f1-score   support\n",
            "\n",
            "           0       0.79      0.57      0.66     21651\n",
            "           1       0.74      0.80      0.77     28033\n",
            "           2       0.90      0.94      0.92    100316\n",
            "\n",
            "    accuracy                           0.86    150000\n",
            "   macro avg       0.81      0.77      0.78    150000\n",
            "weighted avg       0.86      0.86      0.85    150000\n",
            "\n"
          ]
        }
      ],
      "source": [
        "from sklearn.metrics import classification_report\n",
        "\n",
        "y_pred = model.predict(X_test)\n",
        "y_pred_classes = np.argmax(y_pred, axis=1)\n",
        "\n",
        "# Print classification report\n",
        "print(classification_report(y_test, y_pred_classes))\n",
        "# print(classification_report(y_test_bow,test_pred_lr_all))"
      ]
    },
    {
      "cell_type": "markdown",
      "source": [
        "## LSTM (multi layer) with randomely undersampled data (test size=0.2)"
      ],
      "metadata": {
        "id": "7ghOD3ihBN7r"
      }
    },
    {
      "cell_type": "code",
      "execution_count": null,
      "metadata": {
        "id": "_Jyf9UuLWLjM"
      },
      "outputs": [],
      "source": [
        "rus = RandomUnderSampler(random_state=42)\n",
        "X_rus, y_rus = rus.fit_resample(X, y)"
      ]
    },
    {
      "cell_type": "code",
      "execution_count": null,
      "metadata": {
        "colab": {
          "base_uri": "https://localhost:8080/"
        },
        "id": "j0rpENHX6AC0",
        "outputId": "c8a870d9-f01b-4346-c74e-d71a1ba7eb2b"
      },
      "outputs": [
        {
          "data": {
            "text/plain": [
              "(217218, 100)"
            ]
          },
          "execution_count": 49,
          "metadata": {},
          "output_type": "execute_result"
        }
      ],
      "source": [
        "X_rus.shape"
      ]
    },
    {
      "cell_type": "code",
      "execution_count": null,
      "metadata": {
        "id": "8KZGPuBbWVjh"
      },
      "outputs": [],
      "source": [
        "X_train_rus,X_test_rus,y_train_rus,y_test_rus=train_test_split(X_rus, y_rus,test_size=0.2, random_state=0)"
      ]
    },
    {
      "cell_type": "code",
      "execution_count": null,
      "metadata": {
        "id": "A-4W1Z11WWb9"
      },
      "outputs": [],
      "source": [
        "embedding_dim = 50\n",
        "lstm_units = 64\n",
        "output_units=3"
      ]
    },
    {
      "cell_type": "code",
      "execution_count": null,
      "metadata": {
        "id": "9hu0SEsWWeBl"
      },
      "outputs": [],
      "source": [
        "model = Sequential()\n",
        "model.add(Embedding(input_dim=bow_data.shape[1], output_dim=embedding_dim, input_length=100))\n",
        "model.add(LSTM(units=lstm_units, return_sequences=True))  # Ensure return_sequences=True for sequences\n",
        "model.add(Dropout(rate=0.5))\n",
        "model.add(GlobalMaxPooling1D())\n",
        "model.add(BatchNormalization())\n",
        "model.add(Dense(units=output_units, activation='softmax'))"
      ]
    },
    {
      "cell_type": "code",
      "execution_count": null,
      "metadata": {
        "colab": {
          "base_uri": "https://localhost:8080/"
        },
        "id": "bDr6Zyj1WhbE",
        "outputId": "45888e53-e5d8-4e33-95f8-4e426e3e91d5"
      },
      "outputs": [
        {
          "name": "stdout",
          "output_type": "stream",
          "text": [
            "Epoch 1/10\n",
            " 520/4345 [==>...........................] - ETA: 18:51 - loss: 0.6783 - accuracy: 0.7093"
          ]
        }
      ],
      "source": [
        "# Compile the model\n",
        "model.compile(optimizer=Adam(learning_rate=0.001),\n",
        "              loss='sparse_categorical_crossentropy',\n",
        "              metrics=['accuracy'])\n",
        "\n",
        "# Train the model (assuming you have X_train, y_train as your training data)\n",
        "model.fit(X_train_rus, y_train_rus, epochs=10, batch_size=32, validation_split=0.2)"
      ]
    },
    {
      "cell_type": "code",
      "execution_count": null,
      "metadata": {
        "id": "vdMyS-kJWo9H"
      },
      "outputs": [],
      "source": [
        "y_pred = model.predict(X_test_rus)\n",
        "y_pred_classes = np.argmax(y_pred, axis=1)\n",
        "\n",
        "# Print classification report\n",
        "print(classification_report(y_test_rus, y_pred_classes))\n",
        "# print(classification_report(y_test_bow,test_pred_lr_all))"
      ]
    },
    {
      "cell_type": "markdown",
      "metadata": {
        "id": "Nr2ztB0X-ko6"
      },
      "source": [
        "## metric\n",
        "1. Per-Class Metrics:\n",
        "Precision, recall, and F1-score for each class (e.g., for each label in your classification task).\n",
        "\n",
        "2. Macro Avg:\n",
        "The unweighted average of precision, recall, and F1-score across all classes. Each class contributes equally to this average.\n",
        "\n",
        "3. Weighted Avg:\n",
        "The weighted average of precision, recall, and F1-score across all classes. Each class's contribution is weighted by its support (the number of true instances).\n",
        "\n",
        "4. Micro Avg:\n",
        "The precision, recall, and F1-score calculated globally by counting the total true positives, false negatives, and false positives across all classes.\n",
        "\n",
        "5. Accuracy:\n",
        "The overall accuracy of the model, calculated as the number of correctly classified samples divided by the total number of samples."
      ]
    },
    {
      "cell_type": "markdown",
      "source": [
        "## LSTM (multi layer) with randomely undersampled data (test size= 0.1)"
      ],
      "metadata": {
        "id": "nDKwD7K_K4DO"
      }
    },
    {
      "cell_type": "code",
      "source": [
        "X_train_rus,X_test_rus,y_train_rus,y_test_rus=train_test_split(X_rus, y_rus,test_size=0.1, random_state=0)"
      ],
      "metadata": {
        "id": "edZRJXriBmLB"
      },
      "execution_count": null,
      "outputs": []
    },
    {
      "cell_type": "code",
      "execution_count": null,
      "metadata": {
        "id": "D_EhemQdUvnS"
      },
      "outputs": [],
      "source": [
        "embedding_dim = 50\n",
        "lstm_units = 64\n",
        "output_units=3"
      ]
    },
    {
      "cell_type": "code",
      "execution_count": null,
      "metadata": {
        "id": "ULF9sJtWVWni"
      },
      "outputs": [],
      "source": [
        "model = Sequential()\n",
        "model.add(Embedding(input_dim=bow_data.shape[1], output_dim=embedding_dim, input_length=100))\n",
        "model.add(LSTM(units=lstm_units, return_sequences=True))  # Ensure return_sequences=True for sequences\n",
        "model.add(Dropout(rate=0.5))\n",
        "model.add(GlobalMaxPooling1D())\n",
        "model.add(BatchNormalization())\n",
        "model.add(Dense(units=output_units, activation='softmax'))"
      ]
    },
    {
      "cell_type": "code",
      "execution_count": null,
      "metadata": {
        "colab": {
          "base_uri": "https://localhost:8080/"
        },
        "id": "G7mg5HouVa32",
        "outputId": "7cbda2a4-3079-4f76-d34c-58bb202d524b"
      },
      "outputs": [
        {
          "name": "stdout",
          "output_type": "stream",
          "text": [
            "Epoch 1/10\n",
            "4888/4888 [==============================] - 814s 166ms/step - loss: 0.5124 - accuracy: 0.8004 - val_loss: 0.5173 - val_accuracy: 0.8241\n",
            "Epoch 2/10\n",
            "4888/4888 [==============================] - 831s 170ms/step - loss: 0.4060 - accuracy: 0.8492 - val_loss: 0.5204 - val_accuracy: 0.7949\n",
            "Epoch 3/10\n",
            "4888/4888 [==============================] - 834s 171ms/step - loss: 0.3541 - accuracy: 0.8717 - val_loss: 0.6024 - val_accuracy: 0.7282\n",
            "Epoch 4/10\n",
            "4888/4888 [==============================] - 837s 171ms/step - loss: 0.3071 - accuracy: 0.8893 - val_loss: 0.6198 - val_accuracy: 0.7371\n",
            "Epoch 5/10\n",
            "4888/4888 [==============================] - 827s 169ms/step - loss: 0.2679 - accuracy: 0.9044 - val_loss: 0.5473 - val_accuracy: 0.7790\n",
            "Epoch 6/10\n",
            "4888/4888 [==============================] - 822s 168ms/step - loss: 0.2389 - accuracy: 0.9152 - val_loss: 0.6367 - val_accuracy: 0.7509\n",
            "Epoch 7/10\n",
            "4888/4888 [==============================] - 813s 166ms/step - loss: 0.2197 - accuracy: 0.9221 - val_loss: 0.6519 - val_accuracy: 0.7600\n",
            "Epoch 8/10\n",
            "4888/4888 [==============================] - 793s 162ms/step - loss: 0.2034 - accuracy: 0.9284 - val_loss: 0.5506 - val_accuracy: 0.7906\n",
            "Epoch 9/10\n",
            "4888/4888 [==============================] - 791s 162ms/step - loss: 0.1880 - accuracy: 0.9343 - val_loss: 0.6917 - val_accuracy: 0.7575\n",
            "Epoch 10/10\n",
            "4888/4888 [==============================] - 804s 164ms/step - loss: 0.1786 - accuracy: 0.9374 - val_loss: 0.7490 - val_accuracy: 0.7501\n"
          ]
        },
        {
          "data": {
            "text/plain": [
              "<keras.src.callbacks.History at 0x7e5cf37d3760>"
            ]
          },
          "execution_count": 45,
          "metadata": {},
          "output_type": "execute_result"
        }
      ],
      "source": [
        "# Compile the model\n",
        "model.compile(optimizer=Adam(learning_rate=0.001),\n",
        "              loss='sparse_categorical_crossentropy',\n",
        "              metrics=['accuracy'])\n",
        "\n",
        "# Train the model (assuming you have X_train, y_train as your training data)\n",
        "model.fit(X_train_rus, y_train_rus, epochs=10, batch_size=32, validation_split=0.2)"
      ]
    },
    {
      "cell_type": "code",
      "execution_count": null,
      "metadata": {
        "colab": {
          "base_uri": "https://localhost:8080/"
        },
        "id": "-2jsdshOVeht",
        "outputId": "90fc5e69-7bca-4a88-fe97-a09458b720b9"
      },
      "outputs": [
        {
          "name": "stdout",
          "output_type": "stream",
          "text": [
            "679/679 [==============================] - 8s 11ms/step\n",
            "              precision    recall  f1-score   support\n",
            "\n",
            "           0       0.88      0.61      0.72      7183\n",
            "           1       0.84      0.72      0.77      7329\n",
            "           2       0.64      0.93      0.76      7210\n",
            "\n",
            "    accuracy                           0.75     21722\n",
            "   macro avg       0.79      0.75      0.75     21722\n",
            "weighted avg       0.79      0.75      0.75     21722\n",
            "\n"
          ]
        }
      ],
      "source": [
        "y_pred = model.predict(X_test_rus)\n",
        "y_pred_classes = np.argmax(y_pred, axis=1)\n",
        "\n",
        "# Print classification report\n",
        "print(classification_report(y_test_rus, y_pred_classes))"
      ]
    }
  ],
  "metadata": {
    "colab": {
      "provenance": []
    },
    "kernelspec": {
      "display_name": "Python 3",
      "name": "python3"
    },
    "language_info": {
      "name": "python"
    }
  },
  "nbformat": 4,
  "nbformat_minor": 0
}