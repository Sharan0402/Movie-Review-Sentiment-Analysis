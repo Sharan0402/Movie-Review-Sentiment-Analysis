{
  "nbformat": 4,
  "nbformat_minor": 0,
  "metadata": {
    "colab": {
      "provenance": []
    },
    "kernelspec": {
      "name": "python3",
      "display_name": "Python 3"
    },
    "language_info": {
      "name": "python"
    }
  },
  "cells": [
    {
      "cell_type": "code",
      "execution_count": null,
      "metadata": {
        "colab": {
          "base_uri": "https://localhost:8080/"
        },
        "id": "XRxcrdXzQJex",
        "outputId": "a07b6168-f45a-48e6-dd35-9316f09fd2f9"
      },
      "outputs": [
        {
          "output_type": "stream",
          "name": "stdout",
          "text": [
            "Mounted at /content/drive\n"
          ]
        }
      ],
      "source": [
        "from google.colab import drive\n",
        "drive.mount(\"/content/drive\")"
      ]
    },
    {
      "cell_type": "code",
      "source": [
        "import pandas as pd\n",
        "from sklearn.feature_extraction.text import CountVectorizer\n",
        "from nltk.tokenize import word_tokenize\n",
        "import nltk\n",
        "from scipy import sparse\n",
        "import os\n",
        "from scipy import io"
      ],
      "metadata": {
        "id": "rCZ16O6-Qbod"
      },
      "execution_count": null,
      "outputs": []
    },
    {
      "cell_type": "code",
      "source": [
        "path= \"/content/drive/MyDrive/ML_project_datasheets/Final_code/labeled_data.csv\"\n",
        "data=pd.read_csv(path)"
      ],
      "metadata": {
        "id": "RRGm8avnQP5c"
      },
      "execution_count": null,
      "outputs": []
    },
    {
      "cell_type": "code",
      "source": [
        "data['reviews_text_new'] = data['After_lemmatization'].copy()"
      ],
      "metadata": {
        "id": "8882elRXQS0q"
      },
      "execution_count": null,
      "outputs": []
    },
    {
      "cell_type": "code",
      "source": [
        "sample=data.sample(n=200000, random_state=0)"
      ],
      "metadata": {
        "id": "cmJXg1fhUxRT"
      },
      "execution_count": null,
      "outputs": []
    },
    {
      "cell_type": "code",
      "source": [
        "sample.head()"
      ],
      "metadata": {
        "colab": {
          "base_uri": "https://localhost:8080/",
          "height": 380
        },
        "id": "zQqs-VeoVYpo",
        "outputId": "783ff215-8ec8-49e2-9613-4be60cec1958"
      },
      "execution_count": null,
      "outputs": [
        {
          "output_type": "execute_result",
          "data": {
            "text/plain": [
              "        Unnamed: 0                                         reviewText  \\\n",
              "194257     5835804  I didn't have much expectation going into this...   \n",
              "396319     2923697  if u or your kids are into dinosaurs,then this...   \n",
              "138738     3991674                               Good art decent plot   \n",
              "66570      3427992     Best cinematography and in blu ray outstanding   \n",
              "149424     7268361  I wasn't too please when I received the packag...   \n",
              "\n",
              "                                 Review_without_stopwords  \\\n",
              "194257  much expectation going thought give shot like ...   \n",
              "396319  kids dinosaurs dvd pack dino action informatio...   \n",
              "138738                               good art decent plot   \n",
              "66570             best cinematography blu ray outstanding   \n",
              "149424  please received package movies opened box meta...   \n",
              "\n",
              "                                      After_lemmatization  \\\n",
              "194257  much expectation going thought give shot like ...   \n",
              "396319  kid dinosaur dvd pack dino action information ...   \n",
              "138738                               good art decent plot   \n",
              "66570             best cinematography blu ray outstanding   \n",
              "149424  please received package movie opened box metal...   \n",
              "\n",
              "                                                 pos_tags  senti_score  \\\n",
              "194257  [('much', 'JJ'), ('expectation', 'NN'), ('goin...       -1.250   \n",
              "396319  [('kid', 'NN'), ('dinosaur', 'VBZ'), ('dvd', '...       -0.250   \n",
              "138738  [('good', 'JJ'), ('art', 'NN'), ('decent', 'NN...        0.750   \n",
              "66570   [('best', 'JJS'), ('cinematography', 'NN'), ('...        1.500   \n",
              "149424  [('please', 'NN'), ('received', 'VBD'), ('pack...        1.625   \n",
              "\n",
              "       Overall Sentiment                                   reviews_text_new  \n",
              "194257          Negative  much expectation going thought give shot like ...  \n",
              "396319          Negative  kid dinosaur dvd pack dino action information ...  \n",
              "138738          Positive                               good art decent plot  \n",
              "66570           Positive            best cinematography blu ray outstanding  \n",
              "149424          Positive  please received package movie opened box metal...  "
            ],
            "text/html": [
              "\n",
              "  <div id=\"df-901c4951-09b6-42c3-a841-8ed320ee7eb4\" class=\"colab-df-container\">\n",
              "    <div>\n",
              "<style scoped>\n",
              "    .dataframe tbody tr th:only-of-type {\n",
              "        vertical-align: middle;\n",
              "    }\n",
              "\n",
              "    .dataframe tbody tr th {\n",
              "        vertical-align: top;\n",
              "    }\n",
              "\n",
              "    .dataframe thead th {\n",
              "        text-align: right;\n",
              "    }\n",
              "</style>\n",
              "<table border=\"1\" class=\"dataframe\">\n",
              "  <thead>\n",
              "    <tr style=\"text-align: right;\">\n",
              "      <th></th>\n",
              "      <th>Unnamed: 0</th>\n",
              "      <th>reviewText</th>\n",
              "      <th>Review_without_stopwords</th>\n",
              "      <th>After_lemmatization</th>\n",
              "      <th>pos_tags</th>\n",
              "      <th>senti_score</th>\n",
              "      <th>Overall Sentiment</th>\n",
              "      <th>reviews_text_new</th>\n",
              "    </tr>\n",
              "  </thead>\n",
              "  <tbody>\n",
              "    <tr>\n",
              "      <th>194257</th>\n",
              "      <td>5835804</td>\n",
              "      <td>I didn't have much expectation going into this...</td>\n",
              "      <td>much expectation going thought give shot like ...</td>\n",
              "      <td>much expectation going thought give shot like ...</td>\n",
              "      <td>[('much', 'JJ'), ('expectation', 'NN'), ('goin...</td>\n",
              "      <td>-1.250</td>\n",
              "      <td>Negative</td>\n",
              "      <td>much expectation going thought give shot like ...</td>\n",
              "    </tr>\n",
              "    <tr>\n",
              "      <th>396319</th>\n",
              "      <td>2923697</td>\n",
              "      <td>if u or your kids are into dinosaurs,then this...</td>\n",
              "      <td>kids dinosaurs dvd pack dino action informatio...</td>\n",
              "      <td>kid dinosaur dvd pack dino action information ...</td>\n",
              "      <td>[('kid', 'NN'), ('dinosaur', 'VBZ'), ('dvd', '...</td>\n",
              "      <td>-0.250</td>\n",
              "      <td>Negative</td>\n",
              "      <td>kid dinosaur dvd pack dino action information ...</td>\n",
              "    </tr>\n",
              "    <tr>\n",
              "      <th>138738</th>\n",
              "      <td>3991674</td>\n",
              "      <td>Good art decent plot</td>\n",
              "      <td>good art decent plot</td>\n",
              "      <td>good art decent plot</td>\n",
              "      <td>[('good', 'JJ'), ('art', 'NN'), ('decent', 'NN...</td>\n",
              "      <td>0.750</td>\n",
              "      <td>Positive</td>\n",
              "      <td>good art decent plot</td>\n",
              "    </tr>\n",
              "    <tr>\n",
              "      <th>66570</th>\n",
              "      <td>3427992</td>\n",
              "      <td>Best cinematography and in blu ray outstanding</td>\n",
              "      <td>best cinematography blu ray outstanding</td>\n",
              "      <td>best cinematography blu ray outstanding</td>\n",
              "      <td>[('best', 'JJS'), ('cinematography', 'NN'), ('...</td>\n",
              "      <td>1.500</td>\n",
              "      <td>Positive</td>\n",
              "      <td>best cinematography blu ray outstanding</td>\n",
              "    </tr>\n",
              "    <tr>\n",
              "      <th>149424</th>\n",
              "      <td>7268361</td>\n",
              "      <td>I wasn't too please when I received the packag...</td>\n",
              "      <td>please received package movies opened box meta...</td>\n",
              "      <td>please received package movie opened box metal...</td>\n",
              "      <td>[('please', 'NN'), ('received', 'VBD'), ('pack...</td>\n",
              "      <td>1.625</td>\n",
              "      <td>Positive</td>\n",
              "      <td>please received package movie opened box metal...</td>\n",
              "    </tr>\n",
              "  </tbody>\n",
              "</table>\n",
              "</div>\n",
              "    <div class=\"colab-df-buttons\">\n",
              "\n",
              "  <div class=\"colab-df-container\">\n",
              "    <button class=\"colab-df-convert\" onclick=\"convertToInteractive('df-901c4951-09b6-42c3-a841-8ed320ee7eb4')\"\n",
              "            title=\"Convert this dataframe to an interactive table.\"\n",
              "            style=\"display:none;\">\n",
              "\n",
              "  <svg xmlns=\"http://www.w3.org/2000/svg\" height=\"24px\" viewBox=\"0 -960 960 960\">\n",
              "    <path d=\"M120-120v-720h720v720H120Zm60-500h600v-160H180v160Zm220 220h160v-160H400v160Zm0 220h160v-160H400v160ZM180-400h160v-160H180v160Zm440 0h160v-160H620v160ZM180-180h160v-160H180v160Zm440 0h160v-160H620v160Z\"/>\n",
              "  </svg>\n",
              "    </button>\n",
              "\n",
              "  <style>\n",
              "    .colab-df-container {\n",
              "      display:flex;\n",
              "      gap: 12px;\n",
              "    }\n",
              "\n",
              "    .colab-df-convert {\n",
              "      background-color: #E8F0FE;\n",
              "      border: none;\n",
              "      border-radius: 50%;\n",
              "      cursor: pointer;\n",
              "      display: none;\n",
              "      fill: #1967D2;\n",
              "      height: 32px;\n",
              "      padding: 0 0 0 0;\n",
              "      width: 32px;\n",
              "    }\n",
              "\n",
              "    .colab-df-convert:hover {\n",
              "      background-color: #E2EBFA;\n",
              "      box-shadow: 0px 1px 2px rgba(60, 64, 67, 0.3), 0px 1px 3px 1px rgba(60, 64, 67, 0.15);\n",
              "      fill: #174EA6;\n",
              "    }\n",
              "\n",
              "    .colab-df-buttons div {\n",
              "      margin-bottom: 4px;\n",
              "    }\n",
              "\n",
              "    [theme=dark] .colab-df-convert {\n",
              "      background-color: #3B4455;\n",
              "      fill: #D2E3FC;\n",
              "    }\n",
              "\n",
              "    [theme=dark] .colab-df-convert:hover {\n",
              "      background-color: #434B5C;\n",
              "      box-shadow: 0px 1px 3px 1px rgba(0, 0, 0, 0.15);\n",
              "      filter: drop-shadow(0px 1px 2px rgba(0, 0, 0, 0.3));\n",
              "      fill: #FFFFFF;\n",
              "    }\n",
              "  </style>\n",
              "\n",
              "    <script>\n",
              "      const buttonEl =\n",
              "        document.querySelector('#df-901c4951-09b6-42c3-a841-8ed320ee7eb4 button.colab-df-convert');\n",
              "      buttonEl.style.display =\n",
              "        google.colab.kernel.accessAllowed ? 'block' : 'none';\n",
              "\n",
              "      async function convertToInteractive(key) {\n",
              "        const element = document.querySelector('#df-901c4951-09b6-42c3-a841-8ed320ee7eb4');\n",
              "        const dataTable =\n",
              "          await google.colab.kernel.invokeFunction('convertToInteractive',\n",
              "                                                    [key], {});\n",
              "        if (!dataTable) return;\n",
              "\n",
              "        const docLinkHtml = 'Like what you see? Visit the ' +\n",
              "          '<a target=\"_blank\" href=https://colab.research.google.com/notebooks/data_table.ipynb>data table notebook</a>'\n",
              "          + ' to learn more about interactive tables.';\n",
              "        element.innerHTML = '';\n",
              "        dataTable['output_type'] = 'display_data';\n",
              "        await google.colab.output.renderOutput(dataTable, element);\n",
              "        const docLink = document.createElement('div');\n",
              "        docLink.innerHTML = docLinkHtml;\n",
              "        element.appendChild(docLink);\n",
              "      }\n",
              "    </script>\n",
              "  </div>\n",
              "\n",
              "\n",
              "<div id=\"df-a2687d9f-2ede-417b-91f8-9e1263f9c7c6\">\n",
              "  <button class=\"colab-df-quickchart\" onclick=\"quickchart('df-a2687d9f-2ede-417b-91f8-9e1263f9c7c6')\"\n",
              "            title=\"Suggest charts\"\n",
              "            style=\"display:none;\">\n",
              "\n",
              "<svg xmlns=\"http://www.w3.org/2000/svg\" height=\"24px\"viewBox=\"0 0 24 24\"\n",
              "     width=\"24px\">\n",
              "    <g>\n",
              "        <path d=\"M19 3H5c-1.1 0-2 .9-2 2v14c0 1.1.9 2 2 2h14c1.1 0 2-.9 2-2V5c0-1.1-.9-2-2-2zM9 17H7v-7h2v7zm4 0h-2V7h2v10zm4 0h-2v-4h2v4z\"/>\n",
              "    </g>\n",
              "</svg>\n",
              "  </button>\n",
              "\n",
              "<style>\n",
              "  .colab-df-quickchart {\n",
              "      --bg-color: #E8F0FE;\n",
              "      --fill-color: #1967D2;\n",
              "      --hover-bg-color: #E2EBFA;\n",
              "      --hover-fill-color: #174EA6;\n",
              "      --disabled-fill-color: #AAA;\n",
              "      --disabled-bg-color: #DDD;\n",
              "  }\n",
              "\n",
              "  [theme=dark] .colab-df-quickchart {\n",
              "      --bg-color: #3B4455;\n",
              "      --fill-color: #D2E3FC;\n",
              "      --hover-bg-color: #434B5C;\n",
              "      --hover-fill-color: #FFFFFF;\n",
              "      --disabled-bg-color: #3B4455;\n",
              "      --disabled-fill-color: #666;\n",
              "  }\n",
              "\n",
              "  .colab-df-quickchart {\n",
              "    background-color: var(--bg-color);\n",
              "    border: none;\n",
              "    border-radius: 50%;\n",
              "    cursor: pointer;\n",
              "    display: none;\n",
              "    fill: var(--fill-color);\n",
              "    height: 32px;\n",
              "    padding: 0;\n",
              "    width: 32px;\n",
              "  }\n",
              "\n",
              "  .colab-df-quickchart:hover {\n",
              "    background-color: var(--hover-bg-color);\n",
              "    box-shadow: 0 1px 2px rgba(60, 64, 67, 0.3), 0 1px 3px 1px rgba(60, 64, 67, 0.15);\n",
              "    fill: var(--button-hover-fill-color);\n",
              "  }\n",
              "\n",
              "  .colab-df-quickchart-complete:disabled,\n",
              "  .colab-df-quickchart-complete:disabled:hover {\n",
              "    background-color: var(--disabled-bg-color);\n",
              "    fill: var(--disabled-fill-color);\n",
              "    box-shadow: none;\n",
              "  }\n",
              "\n",
              "  .colab-df-spinner {\n",
              "    border: 2px solid var(--fill-color);\n",
              "    border-color: transparent;\n",
              "    border-bottom-color: var(--fill-color);\n",
              "    animation:\n",
              "      spin 1s steps(1) infinite;\n",
              "  }\n",
              "\n",
              "  @keyframes spin {\n",
              "    0% {\n",
              "      border-color: transparent;\n",
              "      border-bottom-color: var(--fill-color);\n",
              "      border-left-color: var(--fill-color);\n",
              "    }\n",
              "    20% {\n",
              "      border-color: transparent;\n",
              "      border-left-color: var(--fill-color);\n",
              "      border-top-color: var(--fill-color);\n",
              "    }\n",
              "    30% {\n",
              "      border-color: transparent;\n",
              "      border-left-color: var(--fill-color);\n",
              "      border-top-color: var(--fill-color);\n",
              "      border-right-color: var(--fill-color);\n",
              "    }\n",
              "    40% {\n",
              "      border-color: transparent;\n",
              "      border-right-color: var(--fill-color);\n",
              "      border-top-color: var(--fill-color);\n",
              "    }\n",
              "    60% {\n",
              "      border-color: transparent;\n",
              "      border-right-color: var(--fill-color);\n",
              "    }\n",
              "    80% {\n",
              "      border-color: transparent;\n",
              "      border-right-color: var(--fill-color);\n",
              "      border-bottom-color: var(--fill-color);\n",
              "    }\n",
              "    90% {\n",
              "      border-color: transparent;\n",
              "      border-bottom-color: var(--fill-color);\n",
              "    }\n",
              "  }\n",
              "</style>\n",
              "\n",
              "  <script>\n",
              "    async function quickchart(key) {\n",
              "      const quickchartButtonEl =\n",
              "        document.querySelector('#' + key + ' button');\n",
              "      quickchartButtonEl.disabled = true;  // To prevent multiple clicks.\n",
              "      quickchartButtonEl.classList.add('colab-df-spinner');\n",
              "      try {\n",
              "        const charts = await google.colab.kernel.invokeFunction(\n",
              "            'suggestCharts', [key], {});\n",
              "      } catch (error) {\n",
              "        console.error('Error during call to suggestCharts:', error);\n",
              "      }\n",
              "      quickchartButtonEl.classList.remove('colab-df-spinner');\n",
              "      quickchartButtonEl.classList.add('colab-df-quickchart-complete');\n",
              "    }\n",
              "    (() => {\n",
              "      let quickchartButtonEl =\n",
              "        document.querySelector('#df-a2687d9f-2ede-417b-91f8-9e1263f9c7c6 button');\n",
              "      quickchartButtonEl.style.display =\n",
              "        google.colab.kernel.accessAllowed ? 'block' : 'none';\n",
              "    })();\n",
              "  </script>\n",
              "</div>\n",
              "    </div>\n",
              "  </div>\n"
            ]
          },
          "metadata": {},
          "execution_count": 7
        }
      ]
    },
    {
      "cell_type": "code",
      "source": [
        "sample.shape"
      ],
      "metadata": {
        "colab": {
          "base_uri": "https://localhost:8080/"
        },
        "id": "VMOGCoVHVfnw",
        "outputId": "a9878ad4-9310-4a2b-a47c-4bda54d03fe9"
      },
      "execution_count": null,
      "outputs": [
        {
          "output_type": "execute_result",
          "data": {
            "text/plain": [
              "(200000, 8)"
            ]
          },
          "metadata": {},
          "execution_count": 8
        }
      ]
    },
    {
      "cell_type": "code",
      "source": [
        "nltk.download('punkt')"
      ],
      "metadata": {
        "colab": {
          "base_uri": "https://localhost:8080/"
        },
        "id": "Hr55ZVEcSiU0",
        "outputId": "8b2d3441-d49d-45a7-d421-333a1821e687"
      },
      "execution_count": null,
      "outputs": [
        {
          "output_type": "stream",
          "name": "stderr",
          "text": [
            "[nltk_data] Downloading package punkt to /root/nltk_data...\n",
            "[nltk_data]   Unzipping tokenizers/punkt.zip.\n"
          ]
        },
        {
          "output_type": "execute_result",
          "data": {
            "text/plain": [
              "True"
            ]
          },
          "metadata": {},
          "execution_count": 6
        }
      ]
    },
    {
      "cell_type": "markdown",
      "source": [
        "An n-gram is a contiguous sequence of n items (words in the case of text). The ngram_range parameter takes a tuple of two values: the minimum and maximum n-gram sizes."
      ],
      "metadata": {
        "id": "NW9rY8XRWolC"
      }
    },
    {
      "cell_type": "code",
      "source": [
        "\n",
        "bow_counts = CountVectorizer(tokenizer= word_tokenize, # type of tokenization\n",
        "                             ngram_range=(1,3)) # number of n-grams\n",
        "\n",
        "bow_data = bow_counts.fit_transform(sample['reviews_text_new'])"
      ],
      "metadata": {
        "colab": {
          "base_uri": "https://localhost:8080/"
        },
        "id": "aWYAUD4lQXoN",
        "outputId": "f3181a38-f33d-4a12-d55b-fb4f447c1544"
      },
      "execution_count": null,
      "outputs": [
        {
          "output_type": "stream",
          "name": "stderr",
          "text": [
            "/usr/local/lib/python3.10/dist-packages/sklearn/feature_extraction/text.py:528: UserWarning: The parameter 'token_pattern' will not be used since 'tokenizer' is not None'\n",
            "  warnings.warn(\n"
          ]
        }
      ]
    },
    {
      "cell_type": "markdown",
      "source": [
        "## bag-of-words representations\n",
        "The variable bow_data that created using CountVectorizer represents a bag-of-words (BoW) representation of text data.\\\n",
        "This means that each row in bow_data corresponds to a document, and each column corresponds to a unique word or n-gram, with the cell values indicating the frequency of the corresponding word or n-gram in the respective document.\\\n",
        "Bow data is sparce matrix.Following is its coordinate list representation.\\\n",
        "Each line corresponds to a non-zero element in the matrix, with the format\n",
        "\n",
        "`(row_index, column_index) value`\n",
        "\n",
        "\n",
        "```\n",
        "#   (0, 4500147)\t1\n",
        "  (0, 2213496)\t1\n",
        "  (0, 2844849)\t1\n",
        "  (0, 6856616)\t1\n",
        "  (0, 2798130)\t1\n",
        "  (0, 6136449)\t1\n",
        "```\n",
        "\n"
      ],
      "metadata": {
        "id": "MO84IWadidO9"
      }
    },
    {
      "cell_type": "code",
      "source": [
        "print(bow_data)"
      ],
      "metadata": {
        "colab": {
          "base_uri": "https://localhost:8080/"
        },
        "id": "sN5NCEABsci0",
        "outputId": "98a4d64e-6c43-404d-896d-6f7045a480e4"
      },
      "execution_count": null,
      "outputs": [
        {
          "output_type": "stream",
          "name": "stdout",
          "text": [
            "  (0, 4500147)\t1\n",
            "  (0, 2213496)\t1\n",
            "  (0, 2844849)\t1\n",
            "  (0, 6856616)\t1\n",
            "  (0, 2798130)\t1\n",
            "  (0, 6136449)\t1\n",
            "  (0, 3823363)\t1\n",
            "  (0, 3221911)\t1\n",
            "  (0, 2321999)\t1\n",
            "  (0, 5883067)\t1\n",
            "  (0, 2396738)\t1\n",
            "  (0, 4409060)\t1\n",
            "  (0, 60865)\t1\n",
            "  (0, 6653853)\t1\n",
            "  (0, 2859933)\t1\n",
            "  (0, 3760780)\t1\n",
            "  (0, 3975546)\t1\n",
            "  (0, 3315328)\t1\n",
            "  (0, 6315846)\t1\n",
            "  (0, 7604705)\t1\n",
            "  (0, 5356563)\t1\n",
            "  (0, 3747548)\t1\n",
            "  (0, 1074284)\t1\n",
            "  (0, 1008328)\t1\n",
            "  (0, 2932733)\t1\n",
            "  :\t:\n",
            "  (199999, 7323139)\t1\n",
            "  (199999, 2389865)\t1\n",
            "  (199999, 7193824)\t1\n",
            "  (199999, 5206685)\t1\n",
            "  (199999, 4261213)\t1\n",
            "  (199999, 6262234)\t1\n",
            "  (199999, 2274745)\t1\n",
            "  (199999, 6266260)\t1\n",
            "  (199999, 7337891)\t1\n",
            "  (199999, 7351776)\t1\n",
            "  (199999, 1162293)\t1\n",
            "  (199999, 4828008)\t1\n",
            "  (199999, 6311152)\t1\n",
            "  (199999, 3907042)\t1\n",
            "  (199999, 5648165)\t1\n",
            "  (199999, 7340196)\t1\n",
            "  (199999, 6552759)\t1\n",
            "  (199999, 4747406)\t1\n",
            "  (199999, 7376084)\t1\n",
            "  (199999, 6820463)\t1\n",
            "  (199999, 6262160)\t1\n",
            "  (199999, 2029965)\t1\n",
            "  (199999, 3861279)\t1\n",
            "  (199999, 7375506)\t1\n",
            "  (199999, 1983030)\t1\n"
          ]
        }
      ]
    },
    {
      "cell_type": "markdown",
      "source": [
        "## Many scikit-learn models can handle sparse matrices as input. Here are some common types of models that can work directly with sparse matrices:\n",
        "\n",
        "1. **Naive Bayes Models:**\\\n",
        "MultinomialNB: Multinomial Naive Bayes classifier\n",
        "\n",
        "2. **Linear Models:**\\\n",
        "LogisticRegression: Logistic Regression classifier.\n",
        "SGDClassifier: Stochastic Gradient Descent classifier.\n",
        "\n",
        "3. **Tree-Based Models:**\\\n",
        "DecisionTreeClassifier: Decision Tree classifier.\n",
        "RandomForestClassifier: Random Forest classifier.\n",
        "\n",
        "4. **Nearest Neighbors:**\\\n",
        "KNeighborsClassifier: k-Nearest Neighbors classifier.\n",
        "\n",
        "5. **Support Vector Machines:**\\\n",
        "LinearSVC: Linear Support Vector Classification.\n",
        "SVC (with a linear kernel): Support Vector Classification.\n",
        "\n",
        "6. **Matrix Factorization:**\\\n",
        "TruncatedSVD: Truncated Singular Value Decomposition (used for dimensionality reduction)."
      ],
      "metadata": {
        "id": "Um006i_hkEzj"
      }
    },
    {
      "cell_type": "markdown",
      "source": [
        "## While many scikit-learn models can handle sparse matrices, some models are designed to work with dense matrices. Here are a few examples:\n",
        "\n",
        "1. **Kernelized Support Vector Machines:**\\\n",
        "SVC with a non-linear kernel (e.g., radial basis function, polynomial): These models typically expect dense input matrices.\n",
        "\n",
        "2. **Neural Networks (Deep Learning Models):**\\\n",
        "Models implemented using deep learning libraries like TensorFlow or PyTorch often expect dense input matrices. Sparse matrices are not the natural input format for dense neural networks.\n",
        "\n",
        "3. **Ensemble Methods with Base Estimators that Require Dense Input:**\\\n",
        "Some ensemble methods, especially those using base estimators that require dense input, may not naturally handle sparse matrices. For example, certain configurations of GradientBoostingClassifier or GradientBoostingRegressor may involve base decision tree estimators that work with dense matrices.\n",
        "\n",
        "4. **Some Custom or Specialized Models:**\\\n",
        "Custom models or models from third-party libraries may not support sparse input, especially if they were not designed with sparse data in mind.\n",
        "When working with these types of models, you might need to convert your sparse matrix to a dense representation using methods like toarray() or todense() depending on the format of your sparse matrix."
      ],
      "metadata": {
        "id": "GVE6fDHrkVhl"
      }
    }
  ]
}